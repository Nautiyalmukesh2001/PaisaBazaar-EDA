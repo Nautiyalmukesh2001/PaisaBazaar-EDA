{
  "cells": [
    {
      "cell_type": "markdown",
      "metadata": {
        "id": "view-in-github",
        "colab_type": "text"
      },
      "source": [
        "<a href=\"https://colab.research.google.com/github/Nautiyalmukesh2001/Paisabazaar-EDA/blob/main/Paisabazaar_EDA.ipynb\" target=\"_parent\"><img src=\"https://colab.research.google.com/assets/colab-badge.svg\" alt=\"Open In Colab\"/></a>"
      ]
    },
    {
      "cell_type": "markdown",
      "metadata": {
        "id": "9HhpQbASx8Lt"
      },
      "source": [
        "# **Project Name : Paisabazaar Banking Fraud Analysis**\n",
        "\n",
        "\n",
        "\n",
        "\n",
        "\n"
      ]
    },
    {
      "cell_type": "markdown",
      "metadata": {
        "id": "o2wrwfE2yf5F"
      },
      "source": [
        "**Project Type** - EDA\n",
        "\n",
        "**Contribution** - Individual\n",
        "\n",
        "**Team Member 1** - Mukesh Nautiyal"
      ]
    },
    {
      "cell_type": "markdown",
      "metadata": {
        "id": "TP1t32I1m2Ka"
      },
      "source": [
        "# **Project Summary :**"
      ]
    },
    {
      "cell_type": "markdown",
      "metadata": {
        "id": "7DKkZxaknA28"
      },
      "source": [
        "\n",
        "### **Introduction:**\n",
        "Paisa Bazaar, a prominent financial services platform, is tasked with accurately assessing customer creditworthiness and identifying fraudulent activities. Misclassification of credit scores leads to increased loan defaults, suboptimal financial product recommendations, and revenue losses. This exploratory data analysis (EDA) project aims to enhance credit risk assessment, fraud detection, and personalized financial services by leveraging customer financial and behavioral data.\n",
        "\n",
        "### **Business Problem:**\n",
        "The challenge is to extract actionable insights from a dataset of 100,000 records with 28 features, representing diverse financial and behavioral attributes like income, loans, delayed payments, and credit utilization. Key objectives include:\n",
        "- Minimizing loan default risks.\n",
        "- Detecting and preventing fraudulent activities.\n",
        "- Improving personalized financial recommendations.\n",
        "\n",
        "\n",
        "### **Methodology:**\n",
        "The project employed a systematic approach to analyze and address business challenges:\n",
        "\n",
        "1. **Data Preparation:**\n",
        "   - Cleaned the dataset to ensure no missing or duplicate values and standardized variable names.\n",
        "   - Validated critical features like SSN, age groups, and credit mixes.\n",
        "\n",
        "2. **Feature Engineering:**\n",
        "   - Created derived variables such as \"SSN Validity,\" \"Salary Discrepancy,\" \"High-Risk Loan Flag,\" and \"Expected Monthly Salary.\"\n",
        "   - Analyzed financial behaviors, credit utilization, and demographic patterns.\n",
        "\n",
        "3. **Exploratory Data Analysis:**\n",
        "   - Used visualizations, statistical analysis, and correlations to uncover key insights.\n",
        "   - Developed charts to analyze relationships between delayed payments, outstanding debt, and credit scores.\n",
        "\n",
        "4. **Insights Extraction:**\n",
        "   - Investigated patterns across demographic groups, payment behaviors, and credit profiles.\n",
        "   - Highlighted potential red flags for fraud and risky financial behaviors.\n",
        "\n",
        "5. **Actionable Recommendations:**\n",
        "   - Proposed targeted strategies for fraud detection, risk mitigation, and product personalization.\n",
        "\n",
        "\n",
        "### **Assumptions:**\n",
        "The analysis was based on the following assumptions:\n",
        "1. **Data Quality:** The dataset is accurate, representative, and free from biases or inaccuracies.\n",
        "2. **SSN Validity:** Invalid SSNs indicate fraud risks or administrative errors, correlated with poor credit scores.\n",
        "3. **Salary Discrepancies:** Higher discrepancies signify potential financial mismanagement or reporting errors.\n",
        "4. **Credit Mix:** Good credit mix reflects financial stability, while bad credit mix is linked to higher defaults.\n",
        "5. **Demographics:** Age groups and occupations influence credit risk and financial behaviors.\n",
        "6. **Loan Behavior:** Customers with many loans or credit cards exhibit higher financial risks.\n",
        "\n",
        "\n",
        "\n",
        "### **Key Dataset Details:**\n",
        "- **Size:** 100,000 rows, 28 features.\n",
        "- **Content:** Includes variables like income, loan counts, credit utilization, delayed payments, and payment behavior.\n",
        "- **Quality:** Clean, with no missing or duplicate values and no significant outliers.\n",
        "\n",
        "\n",
        "\n",
        "### **Key Insights:**\n",
        "1. **Fraud Indicators:**\n",
        "   - 21.6% of SSNs flagged as invalid, suggesting potential fraud or data issues.\n",
        "   - High-risk behaviors found among customers with excessive loans or credit cards.\n",
        "\n",
        "2. **Credit Score Patterns:**\n",
        "   - Standard credit scores dominate (53%), followed by Poor (29%) and Good (18%).\n",
        "   - Poor scores correlate with delayed payments, high debt, and bad credit mixes.\n",
        "\n",
        "3. **Demographics:**\n",
        "   - Young adults (25–33) and middle-aged adults (34–42) show stronger credit profiles.\n",
        "   - Younger customers (14–24) are more prone to risky financial behaviors.\n",
        "\n",
        "4. **Financial Behaviors:**\n",
        "   - Delayed payments and outstanding debt are strongly correlated with poor credit scores.\n",
        "   - Customers with 6+ credit cards or high salary discrepancies exhibit higher financial risks.\n",
        "\n",
        "\n",
        "\n",
        "### **Visualization Highlights:**\n",
        "1. **Credit Score Analysis:**\n",
        "   - Pie charts and histograms show the distribution of credit scores and age demographics.\n",
        "   - Delayed payments and credit utilization ratios reveal clear risk thresholds.\n",
        "\n",
        "2. **Risk Identification:**\n",
        "   - Heatmaps highlight strong correlations between outstanding debt, delayed payments, and credit utilization ratios.\n",
        "   - Dual-axis charts uncover trends in loan behaviors, financial strain, and repayment delays.\n",
        "\n",
        "3. **Demographic Trends:**\n",
        "   - Young people with invalid loan profiles or bad credit mixes are flagged for fraud risks.\n",
        "   - Older adults (43–56) show higher debt but stable repayment behaviors.\n",
        "\n",
        "\n",
        "\n",
        "### **Actionable Recommendations:**\n",
        "1. **Fraud Detection:**\n",
        "   - Strengthen SSN validation processes and flag high-risk behaviors (e.g., excessive loans).\n",
        "   - Monitor credit card ownership to identify over-leveraged customers.\n",
        "\n",
        "2. **Risk Mitigation:**\n",
        "   - Incorporate delayed payments and salary discrepancies into risk models.\n",
        "   - Target high-debt customers with debt consolidation programs.\n",
        "\n",
        "3. **Personalized Products:**\n",
        "   - Offer premium loans for high-income, good-credit customers.\n",
        "   - Provide low-risk products for poor-credit, low-income customers to build creditworthiness.\n",
        "\n",
        "4. **Interest Rate Policies:**\n",
        "   - Adjust interest rates for high-risk profiles to reduce defaults.\n",
        "   - Incentivize good credit mixes with lower interest rates.\n",
        "\n",
        "5. **Education and Engagement:**\n",
        "   - Educate young adults (14–24) on financial planning and credit management.\n",
        "   - Provide counseling for customers with severe financial discrepancies.\n",
        "\n",
        "\n",
        "\n",
        "### **Conclusion:**\n",
        "This EDA project provides Paisa Bazaar with valuable insights into credit risk assessment and fraud detection. By implementing targeted strategies and data-driven recommendations, the company can optimize lending policies, enhance customer satisfaction, and build long-term trust, fostering sustainable business growth.\n",
        "\n",
        "\n"
      ]
    },
    {
      "cell_type": "markdown",
      "source": [
        "#**GitHub Link -**"
      ],
      "metadata": {
        "id": "U-d3V-eL_Wdz"
      }
    },
    {
      "cell_type": "markdown",
      "source": [
        "https://github.com/Nautiyalmukesh2001/Paisabazaar-EDA"
      ],
      "metadata": {
        "id": "UpyGT76m_dvE"
      }
    },
    {
      "cell_type": "markdown",
      "metadata": {
        "id": "1onkWMOEzFrr"
      },
      "source": [
        "# **Problem Statement**"
      ]
    },
    {
      "cell_type": "markdown",
      "metadata": {
        "id": "gXYuzGbZ1Q-0"
      },
      "source": [
        "**BUSINESS PROBLEM OVERVIEW**\n",
        "\n",
        "Paisabazaar faces the challenge of accurately assessing the creditworthiness of its customers using diverse financial and behavioral data. Misclassification of credit scores can lead to increased loan default risks, suboptimal financial product recommendations, and potential revenue loss. The problem is to identify key factors influencing credit scores and develop a robust framework to analyze and classify customers based on their creditworthiness. This requires extracting actionable insights from customer data, such as income, credit card usage, and payment patterns, to enable better decision-making and deliver personalized services.\n",
        "\n",
        "\n"
      ]
    },
    {
      "cell_type": "markdown",
      "source": [
        "### **BUSINESS OBJECTIVE**"
      ],
      "metadata": {
        "id": "EYKgmWckBlg_"
      }
    },
    {
      "cell_type": "markdown",
      "metadata": {
        "id": "cj3r5Y2ABg5C"
      },
      "source": [
        "To improve credit risk assessment, minimize loan default risks, detect and prevent fraudulent activities, and provide tailored financial products and advice, thereby enhancing decision-making, risk management, and customer satisfaction."
      ]
    },
    {
      "cell_type": "markdown",
      "metadata": {
        "id": "m-it-n5PJ6qG"
      },
      "source": [
        "#**1. Dataset Exploration**"
      ]
    },
    {
      "cell_type": "markdown",
      "metadata": {
        "id": "7Ns8Q61C_s2z"
      },
      "source": [
        "## Import Libraries"
      ]
    },
    {
      "cell_type": "code",
      "execution_count": null,
      "metadata": {
        "id": "Q3xjfFECJ_ky"
      },
      "outputs": [],
      "source": [
        "import pandas as pd\n",
        "import numpy as np\n",
        "import re\n",
        "import matplotlib.pyplot as plt\n",
        "import seaborn as sns\n",
        "import time\n",
        "import plotly.express as ps\n",
        "from plotly.subplots import make_subplots\n",
        "import plotly.graph_objects as go\n",
        "import os"
      ]
    },
    {
      "cell_type": "markdown",
      "metadata": {
        "id": "nSOfVftkAH-j"
      },
      "source": [
        "## Dataset Loading"
      ]
    },
    {
      "cell_type": "code",
      "execution_count": null,
      "metadata": {
        "id": "JYGdHteaOAhl"
      },
      "outputs": [],
      "source": [
        "# mounting google drive\n",
        "from google.colab import drive\n",
        "drive.mount('/content/drive')"
      ]
    },
    {
      "cell_type": "code",
      "execution_count": null,
      "metadata": {
        "id": "TCV_-Gy9Ac-q"
      },
      "outputs": [],
      "source": [
        "# changing the working directory for easy access of files\n",
        "os.chdir('/content/drive/MyDrive/Paisabazaar_eda')"
      ]
    },
    {
      "cell_type": "code",
      "execution_count": null,
      "metadata": {
        "id": "L9YX4j7iOiY-"
      },
      "outputs": [],
      "source": [
        "# Creating pandas dataframe\n",
        "filepath = 'dataset.csv'\n",
        "customer_df = pd.read_csv(filepath)"
      ]
    },
    {
      "cell_type": "markdown",
      "metadata": {
        "id": "XkwsoU7nC-Nm"
      },
      "source": [
        "## Dataset First View"
      ]
    },
    {
      "cell_type": "code",
      "execution_count": null,
      "metadata": {
        "id": "Ck8iuZetFU1v"
      },
      "outputs": [],
      "source": [
        "# top 5 rows of the data\n",
        "customer_df.head()"
      ]
    },
    {
      "cell_type": "markdown",
      "metadata": {
        "id": "_9FyBDCaFJDR"
      },
      "source": [
        "## Dataset Rows & Columns count"
      ]
    },
    {
      "cell_type": "code",
      "execution_count": null,
      "metadata": {
        "id": "mDOrSdtVFyD7"
      },
      "outputs": [],
      "source": [
        "# Dataset rows and columns\n",
        "customer_df.shape"
      ]
    },
    {
      "cell_type": "markdown",
      "metadata": {
        "id": "hyuM8qpgFme7"
      },
      "source": [
        "## Dataset Information"
      ]
    },
    {
      "cell_type": "code",
      "execution_count": null,
      "metadata": {
        "id": "F5865qEhxsg_"
      },
      "outputs": [],
      "source": [
        "# dataset info\n",
        "customer_df.info()"
      ]
    },
    {
      "cell_type": "markdown",
      "metadata": {
        "id": "NqyWzEfDGV7Q"
      },
      "source": [
        "### Duplicate Values"
      ]
    },
    {
      "cell_type": "code",
      "execution_count": null,
      "metadata": {
        "id": "caTGt3KWOKKP"
      },
      "outputs": [],
      "source": [
        "# Dataset Duplicate Value Count\n",
        "\n",
        "len(customer_df[customer_df.duplicated()])"
      ]
    },
    {
      "cell_type": "markdown",
      "metadata": {
        "id": "fb2Z6YIoN_X2"
      },
      "source": [
        "### Missing Values/Null Values"
      ]
    },
    {
      "cell_type": "code",
      "execution_count": null,
      "metadata": {
        "id": "usKd6eLtGgAB"
      },
      "outputs": [],
      "source": [
        "# Missing Values/Null Values Count\n",
        "\n",
        "print(customer_df.isnull().sum())"
      ]
    },
    {
      "cell_type": "code",
      "execution_count": null,
      "metadata": {
        "id": "qCD3K8xQP4UV"
      },
      "outputs": [],
      "source": [
        "# Checking Null Value by plotting Heatmap\n",
        "\n",
        "sns.heatmap(customer_df.isnull(),cbar=True)\n"
      ]
    },
    {
      "cell_type": "markdown",
      "metadata": {
        "id": "ODw72fE4aGKx"
      },
      "source": [
        "### Outlier *Detection*"
      ]
    },
    {
      "cell_type": "code",
      "execution_count": null,
      "metadata": {
        "id": "4rTEuPLbaghI"
      },
      "outputs": [],
      "source": [
        "for feature in customer_df.columns:\n",
        "  try:\n",
        "    fig = ps.box(customer_df,y=feature)\n",
        "    fig.show()\n",
        "  except Exception as e:\n",
        "    print(f\"Error occurred while plotting {feature}: {e}\")"
      ]
    },
    {
      "cell_type": "markdown",
      "metadata": {
        "id": "ZIx8S-jFTq7n"
      },
      "source": [
        "## What did you know about your dataset?"
      ]
    },
    {
      "cell_type": "markdown",
      "metadata": {
        "id": "P16jLDgJTzcB"
      },
      "source": [
        "The dataset provided originates from the financial services industry, specifically from Paisabazaar, and is designed to analyze customer credit behavior and detect potential fraudulent activities. The primary objective is to extract meaningful insights that enhance credit risk assessment, improve personalized recommendations, and strengthen fraud detection mechanisms.\n",
        "\n",
        "The dataset comprises 100,000 rows and 28 columns, capturing diverse financial and behavioral data. It is well-prepared for analysis, with no missing or duplicate values. Initial exploratory analysis, including boxplots, revealed no significant outliers, indicating a clean and reliable dataset for generating actionable insights."
      ]
    },
    {
      "cell_type": "markdown",
      "metadata": {
        "id": "bRJMlTtuUfoI"
      },
      "source": [
        "# **2. Understanding Variables**"
      ]
    },
    {
      "cell_type": "code",
      "execution_count": null,
      "metadata": {
        "id": "ZzICPjk8Uv7j"
      },
      "outputs": [],
      "source": [
        "# Dataset Columns\n",
        "\n",
        "customer_df.columns"
      ]
    },
    {
      "cell_type": "code",
      "execution_count": null,
      "metadata": {
        "id": "24B77WDdU3do"
      },
      "outputs": [],
      "source": [
        "# Dataset Describe\n",
        "\n",
        "customer_df.describe(include='all')"
      ]
    },
    {
      "cell_type": "markdown",
      "metadata": {
        "id": "OYazKbl2SE2f"
      },
      "source": [
        "## Variable Description"
      ]
    },
    {
      "cell_type": "markdown",
      "metadata": {
        "id": "CkLmndjOchbW"
      },
      "source": [
        "\n",
        "\n",
        "*   ID: Unique ID of the Record.\n",
        "*   Customer_ID: Unique ID of the Customer.\n",
        "*   Month: month of the year.\n",
        "*   Name: Name of the Person.\n",
        "*   Age: Age of the Person.\n",
        "*   SSN: Social Security Number of the Person.\n",
        "*   Occupation: Occupation of the Person.\n",
        "*   Annual Income: Annual Income of the Person.\n",
        "*   Monthly_Inhand_Salary: Monthly Inhand Salary of the Person.\n",
        "*   Num_Bank_Accounts: Number of Bank Accounts of the Person.\n",
        "*   Num_Credit_Card: Number of Credit Cards Customer having.\n",
        "*   Interest_Rate: Interest Rate on the Credit Card of the Customer.\n",
        "*   Num_of_Loan: Number of Loans Taken by the Customer from the Bank.\n",
        "*   Type_of_Loan: Types of Loans Taken by the Customer from the Bank.\n",
        "*   Delay_from_due_date: Average Number of Days Delayed by the Person from the Date of Paymnet.\n",
        "*   Num_of_Delayed_Payment: Number of Payments Delayed by the Person.\n",
        "*   Changed_Credit_Limit: Percentage Change in the Credit Card Limit of the Customer.\n",
        "*   Num_Credit_Inquiries: Number of the Credit Card Inquiries by the Person.\n",
        "*   Credit_Mix: Classification of Credit Mix of the Person (Good,Standard,Poor).\n",
        "*   Outstanding_Debt: Outstanding Balance of Person.\n",
        "*   Credit_Utilization_Ratio: Credit Utilization Ratio of Credit Card of the Customer.\n",
        "*   Credit_History_Age: The Age of Credit History of the Person.\n",
        "*   Payment_of_Minimum_amount: Yes,if person paid the minimum amount to be paid on the credit, otherwise No.\n",
        "*   Total_EMI_per_Month: Total EMI Per Month of the Person.\n",
        "*   Amount_Invested_Monthly: The Monthly Amount Invested by the Person.\n",
        "*   Payment_Behavior: Payment behavior of person\n",
        "*   Monthly_Balance: The Monthly Balance Left in the Account of the Person.\n",
        "*   Credit_Score: Credit Score of person (Good,Standard,Poor).\n",
        "\n",
        "\n",
        "\n",
        "\n",
        "\n",
        "\n"
      ]
    },
    {
      "cell_type": "markdown",
      "metadata": {
        "id": "Nyxn48GxVTcJ"
      },
      "source": [
        "##  Unique Values for each variable."
      ]
    },
    {
      "cell_type": "code",
      "execution_count": null,
      "metadata": {
        "id": "_RafhT8hVYfv"
      },
      "outputs": [],
      "source": [
        "# number of unique values\n",
        "customer_df.nunique()"
      ]
    },
    {
      "cell_type": "markdown",
      "metadata": {
        "id": "vdH9uaKxSLa8"
      },
      "source": [
        "# **3. Data Wrangling**"
      ]
    },
    {
      "cell_type": "markdown",
      "metadata": {
        "id": "dhTJPn8dX3TE"
      },
      "source": [
        "## Data Wrangling Code"
      ]
    },
    {
      "cell_type": "code",
      "execution_count": null,
      "metadata": {
        "id": "__9WuEKrSN87"
      },
      "outputs": [],
      "source": [
        "# creating copy of dataset\n",
        "customer_df_copy = customer_df.copy()"
      ]
    },
    {
      "cell_type": "code",
      "execution_count": null,
      "metadata": {
        "id": "HeDQ4tFD_4EV"
      },
      "outputs": [],
      "source": [
        "# changing the Credit_Score column name to Credit_Score_Category to make them more meaningful\n",
        "customer_df.rename(columns={'Credit_Score':'Credit_Score_Category'},inplace=True)"
      ]
    },
    {
      "cell_type": "code",
      "execution_count": null,
      "metadata": {
        "id": "QTJgBrmBxjg0"
      },
      "outputs": [],
      "source": [
        "# creating a function to categorize month from numerical to month name to make it more interpretable\n",
        "def categorize_month(month):\n",
        "  try:\n",
        "    # if-elif statement to catch the exact month number\n",
        "    if month == 1:\n",
        "      return 'January'\n",
        "    elif month == 2:\n",
        "      return 'February'\n",
        "    elif month == 3:\n",
        "      return 'March'\n",
        "    elif month == 4:\n",
        "      return 'April'\n",
        "    elif month == 5:\n",
        "      return 'May'\n",
        "    elif month == 6:\n",
        "      return 'June'\n",
        "    elif month ==7:\n",
        "      return 'July'\n",
        "    elif month ==8:\n",
        "      return 'August'\n",
        "\n",
        "  except Exception as e:\n",
        "    return f\"Error: {e}\"  # Handle unexpected errors"
      ]
    },
    {
      "cell_type": "code",
      "execution_count": null,
      "metadata": {
        "id": "T7HdH6DqyrBD"
      },
      "outputs": [],
      "source": [
        "# creating a month name column\n",
        "customer_df['Month_Name'] = customer_df['Month'].apply(categorize_month)"
      ]
    },
    {
      "cell_type": "code",
      "execution_count": null,
      "metadata": {
        "id": "oMf0Q7NH6LEN"
      },
      "outputs": [],
      "source": [
        "# 1. Creditworthiness assessments often rely on the ability to verify an individual's identity, and an invalid SSN may indicate that the person's identity is either unverified,\n",
        "#    fraudulent, or incorrect as it may suggest the person is attempting to hide or alter their true identity, which could be an indication of fraudulent activity.\n",
        "# 2. An invalid SSN prevents financial institutions from accurately pulling the individual's credit report from major credit bureaus.\n",
        "# 3. If a person does not have a valid SSN,they may not have an established credit history. This can lead to difficulties in assessing their creditworthiness.\n",
        "# 4. Reasons of Invalid SSN can be: Typographical Errors,Identity Theft or Fraud,No Credit History\n",
        "\n",
        "\n",
        "# creating a function to check SSN validity to assess the creditworthiness of customer.\n",
        "# SSN like 123456789\n",
        "def validate_ssn(num):\n",
        "  try:\n",
        "\n",
        "    # changing type of num so that i can perform regex\n",
        "    ssn = str(int(num))\n",
        "    if not re.match(r\"^\\d{9}$\", ssn):\n",
        "      return 'Invalid SSN'\n",
        "\n",
        "    # making groups of SSN in the format: xxx-xx-xxxx\n",
        "    group_1 = ssn[:3] # xxx\n",
        "    group_2 = ssn[3:5] # xx\n",
        "    group_3 = ssn[5:]  # xxxx\n",
        "\n",
        "    # The SSN should not contain all zeros in any digit group\n",
        "    if group_1 == '000' or group_2 == '00' or group_3 == '0000':\n",
        "      return 'Invalid SSN'\n",
        "\n",
        "    # The first three digits should not be \"666\" or in the range \"900–999\".\n",
        "    if group_1 == '666' or 900 <= int(group_1) <= 999:\n",
        "      return 'Invalid SSN'\n",
        "\n",
        "    # if all conditions passed return True\n",
        "    return 'Valid SSN'\n",
        "\n",
        "  except ValueError:\n",
        "    # Handles cases where the input cannot be converted to an integer\n",
        "    return 'Invalid SSN: Input must be a numeric value'\n",
        "\n",
        "  except Exception as e:\n",
        "    # Catches any unexpected errors\n",
        "    return f\"An error occurred: {e}\""
      ]
    },
    {
      "cell_type": "code",
      "execution_count": null,
      "metadata": {
        "id": "fku2LQGp6K6A"
      },
      "outputs": [],
      "source": [
        "# creating a new column to store SSN validity of the customer\n",
        "customer_df['SSN_Validity'] = customer_df['SSN'].apply(validate_ssn)"
      ]
    },
    {
      "cell_type": "code",
      "execution_count": null,
      "metadata": {
        "id": "FcIXodi36Ke9"
      },
      "outputs": [],
      "source": [
        "# count of valid and invalid ssn of the customer\n",
        "customer_df['SSN_Validity'].value_counts()"
      ]
    },
    {
      "cell_type": "code",
      "execution_count": null,
      "metadata": {
        "id": "6OjTzZsEbTFm"
      },
      "outputs": [],
      "source": [
        "# 1. The invalid SSN might suggest identity verification issues. If the SSN is invalid due to a typo, the person could still have a poor or standard credit score.\n",
        "#    This situation can be rectified by correcting the SSN.\n",
        "\n",
        "# 2. If the SSN is invalid due to fraudulent use, the person might be using someone else’s SSN or a fake SSN to apply for credit.\n",
        "#    In this case, the combination of poor credit score and an invalid SSN suggests the person could be involved in fraudulent activities.\n",
        "#    The poor credit score could reflect their inability to manage credit or financial responsibility, which is often a result of identity theft,fraudulent behaviour or financial mismanagement.\n",
        "\n",
        "# 3. If the SSN is invalid because the person is not in the credit system or there are reporting issues (e.g., no credit file),\n",
        "#    the individual may have a poor or standard credit score due to a lack of credit history or other financial factors.\n",
        "#    In this case, the person might be a new credit user or someone with a thin credit file who has been using credit irresponsibly,\n",
        "#    and having Poor credit Score will reflect financial instability or financial distress.\n",
        "\n",
        "\n",
        "# Creating a crosstab to examine the correlation between invalid SSN and poor credit score\n",
        "pd.crosstab(index=customer_df['SSN_Validity'],columns=customer_df['Credit_Score_Category'],margins=True)"
      ]
    },
    {
      "cell_type": "code",
      "execution_count": null,
      "metadata": {
        "id": "P6d9e2aNbZSC"
      },
      "outputs": [],
      "source": [
        "# creating group by to show relation between annaul income and credit score category\n",
        "customer_df.groupby('Credit_Score_Category')['Annual_Income'].describe().round(2)"
      ]
    },
    {
      "cell_type": "code",
      "execution_count": null,
      "metadata": {
        "id": "u4exu6FWGwkJ"
      },
      "outputs": [],
      "source": [
        "# creating group by to analyze credit score with other features\n",
        "\n",
        "customer_df.groupby('Credit_Score_Category').agg({'Credit_Utilization_Ratio':'mean','Num_Credit_Card':'mean','Num_of_Loan':'mean','Num_Credit_Inquiries':'mean'}).round()"
      ]
    },
    {
      "cell_type": "code",
      "execution_count": null,
      "metadata": {
        "id": "tpLa8Sx9APCm"
      },
      "outputs": [],
      "source": [
        "# creating a column of Expected monthly salary\n",
        "customer_df['Expected_Monthly_Salary'] = customer_df['Annual_Income']/12"
      ]
    },
    {
      "cell_type": "code",
      "execution_count": null,
      "metadata": {
        "id": "bT8vGsrGAxBA"
      },
      "outputs": [],
      "source": [
        "# creating a discrepancy column to use it for further analysis to check income discrepancy\n",
        "customer_df['Monthly_Salary_Discrepancy'] = abs(customer_df['Expected_Monthly_Salary'] - customer_df['Monthly_Inhand_Salary'])"
      ]
    },
    {
      "cell_type": "code",
      "execution_count": null,
      "metadata": {
        "id": "e7it7--gtoAO"
      },
      "outputs": [],
      "source": [
        "# creating a percentage discrepancy column\n",
        "customer_df['Monthly_Salary_Percentage_Discrepancy'] = (customer_df['Monthly_Salary_Discrepancy']  / customer_df['Expected_Monthly_Salary']) *100"
      ]
    },
    {
      "cell_type": "code",
      "execution_count": null,
      "metadata": {
        "id": "n6wvVnZouPSn"
      },
      "outputs": [],
      "source": [
        "# creating a category of percentage discrepancy to take it for further analysis\n",
        "def categorize_discrepancy(discrepancy):\n",
        "  if discrepancy == 0:\n",
        "    return 'No Discrepancy'\n",
        "  elif 0 <= discrepancy <= 5:\n",
        "    return 'Minimal Discrepancy'\n",
        "  elif 5 < discrepancy <= 15:\n",
        "    return 'Moderate Discrepancy'\n",
        "  elif 15 < discrepancy <= 30:\n",
        "    return 'High Discrepancy'\n",
        "  elif 30 < discrepancy <= 50:\n",
        "    return 'Severe Discrepancy'"
      ]
    },
    {
      "cell_type": "code",
      "execution_count": null,
      "metadata": {
        "id": "gL_f636hzhhb"
      },
      "outputs": [],
      "source": [
        "# creating a category column to put categories of monthly discrepancy\n",
        "customer_df['Monthly_Salary_Discrepancy_Category'] = customer_df['Monthly_Salary_Percentage_Discrepancy'].apply(categorize_discrepancy)"
      ]
    },
    {
      "cell_type": "code",
      "execution_count": null,
      "metadata": {
        "id": "uuc0WHdV0H2a"
      },
      "outputs": [],
      "source": [
        "# count of monthly salary discrepancy category\n",
        "customer_df.loc[:,'Monthly_Salary_Discrepancy_Category'].value_counts()"
      ]
    },
    {
      "cell_type": "code",
      "execution_count": null,
      "metadata": {
        "id": "e9MHRmN72XWk"
      },
      "outputs": [],
      "source": [
        "# creating a crosstab to show Monthly_Salary_Discrepancy_Category and credit score category\n",
        "pd.crosstab(customer_df['Monthly_Salary_Discrepancy_Category'],customer_df['Credit_Score_Category'],margins=True)"
      ]
    },
    {
      "cell_type": "code",
      "execution_count": null,
      "metadata": {
        "id": "ZOBN0iwb0Ywy"
      },
      "outputs": [],
      "source": [
        "# 1. Included the monthly salary discrepancy category alongside the outstanding debt of customers to better understand\n",
        "#    the relationship between income stability and debt obligations.\n",
        "# 2. This comparison is crucial for credit score and fraud analysis, as significant salary discrepancies may indicate financial distress\n",
        "#    or potential fraudulent behavior. By examining how salary discrepancies align with outstanding debts,\n",
        "#    we can identify patterns that signal higher credit risk or areas that require closer scrutiny for fraud detection.\n",
        "\n",
        "\n",
        "# creating a groupby to show monthly salary discrepancy category and outstanding debt of the Customer\n",
        "customer_df.groupby('Monthly_Salary_Discrepancy_Category')['Outstanding_Debt'].describe().round(2)"
      ]
    },
    {
      "cell_type": "code",
      "execution_count": null,
      "metadata": {
        "id": "HdxU7e2IWtm9"
      },
      "outputs": [],
      "source": [
        "# unique credit mix\n",
        "print(\"The Unique Credit Mix are: \",customer_df['Credit_Mix'].unique())"
      ]
    },
    {
      "cell_type": "code",
      "execution_count": null,
      "metadata": {
        "id": "D9sgX_3OWtj4"
      },
      "outputs": [],
      "source": [
        "# replacing the values of Credit_Mix column to make them more understandable or interpretable\n",
        "customer_df['Credit_Mix'] = customer_df['Credit_Mix'].replace({'Good':'Good_Credit_Mix','Standard':'Standard_Credit_Mix','Bad':'Bad_Credit_Mix'})"
      ]
    },
    {
      "cell_type": "code",
      "execution_count": null,
      "metadata": {
        "id": "L65-48v0pqKW"
      },
      "outputs": [],
      "source": [
        "# creating crosstab to show realtion between credit mix and credit score category\n",
        "pd.crosstab(index=customer_df['Credit_Mix'],columns=customer_df['Credit_Score_Category'],margins=True)"
      ]
    },
    {
      "cell_type": "code",
      "execution_count": null,
      "metadata": {
        "id": "lWcj7nP2eq_q"
      },
      "outputs": [],
      "source": [
        "# 1.Raw age values can be difficult to analyze directly, as they are continuous and do not easily provide insights at a glance.\n",
        "#   By categorizing individuals into specific age ranges, we can better understand how different age groups behave in relation to other variables\n",
        "\n",
        "# 2.Categorizing individuals into age groups (14-24, 25-33, 34-42, 43-56) helps to break down the data into manageable segments.\n",
        "#   This segmentation is useful when analyzing how certain behaviors, like loan-taking or spending, may vary across different stages of life.\n",
        "\n",
        "\n",
        "# 14-24: Young People\n",
        "# 25-33: Young Adults\n",
        "# 34-42: Middle-Aged Adults\n",
        "# 43-56: Older Adults\n",
        "# creating a function to categorize age\n",
        "def categorize_age(age,lower_fence,Q1,mid,Q3,upper_fence):\n",
        "  try:\n",
        "    if lower_fence <= age <= Q1:\n",
        "      return f'Young_People (Age {lower_fence}-{Q1})'\n",
        "    elif Q1 < age <= mid:\n",
        "      return f'Young_Adults (Age {Q1+1}-{mid})'\n",
        "    elif mid < age <= Q3:\n",
        "      return f'Middle_Aged_Adults (Age {mid+1}-{Q3})'\n",
        "    elif Q3 < age <= upper_fence:\n",
        "      return f'Older_Adults (Age {Q3+1}-{upper_fence})'\n",
        "\n",
        "  except TypeError:\n",
        "    # Handles cases where inputs are not of expected types (e.g., non-numeric values)\n",
        "    return 'Invalid input: Age and fence values must be numbers'\n",
        "\n",
        "  except Exception as e:\n",
        "    # Catches any other unexpected errors\n",
        "    return f\"An error occurred: {e}\"\n"
      ]
    },
    {
      "cell_type": "code",
      "execution_count": null,
      "metadata": {
        "id": "7C1qDf1Seq8M"
      },
      "outputs": [],
      "source": [
        "# calculating lower_fence__age,Q1__age,mid__age,Q3__age,upper_fence__age\n",
        "lower_fence_age = int(customer_df['Age'].min()) # to get min age\n",
        "Q1_age = int(np.percentile(customer_df['Age'],25)) # to get Q1 age\n",
        "mid_age = int(customer_df['Age'].median())  # to get median value\n",
        "Q3_age = int(np.percentile(customer_df['Age'],75))  # to get Q3 of age\n",
        "upper_fence_age = int(customer_df['Age'].max())  # to get max of age\n",
        "\n",
        "# creating a new column named Age_Category\n",
        "customer_df['Age_Category'] = customer_df['Age'].apply(categorize_age,lower_fence=lower_fence_age,Q1=Q1_age,mid=mid_age,Q3=Q3_age,upper_fence=upper_fence_age)"
      ]
    },
    {
      "cell_type": "code",
      "execution_count": null,
      "metadata": {
        "id": "KFADnDyfHwzQ"
      },
      "outputs": [],
      "source": [
        "# creating a crosstab to analyze age category with credit mix of the customer\n",
        "pd.crosstab(index=customer_df['Age_Category'],columns=customer_df['Credit_Mix'],margins=True)"
      ]
    },
    {
      "cell_type": "code",
      "execution_count": null,
      "metadata": {
        "id": "q_J1tOZoPueM"
      },
      "outputs": [],
      "source": [
        "# creating groupby to analyze age category with number of payment delayed\n",
        "customer_df.groupby('Age_Category')['Num_of_Delayed_Payment'].describe().round()"
      ]
    },
    {
      "cell_type": "code",
      "execution_count": null,
      "metadata": {
        "id": "WmvyG-VHg1jS"
      },
      "outputs": [],
      "source": [
        "customer_df.groupby('Age_Category')['Num_of_Delayed_Payment'].mean().round()"
      ]
    },
    {
      "cell_type": "code",
      "execution_count": null,
      "metadata": {
        "id": "Llyfq0E0OYeh"
      },
      "outputs": [],
      "source": [
        "# getting unique types of loan taken by the customer\n",
        "unique_loan_type_set = set()\n",
        "for loan in customer_df['Type_of_Loan']:\n",
        "  for i in loan.split(','):\n",
        "    unique_loan_type_set.add(i.replace('and','').strip())\n",
        "\n",
        "unique_loan_type = list(unique_loan_type_set)\n",
        "print('The unique type of loan are: ',unique_loan_type)\n",
        "print('The total number of unique type of loan are: ',len(unique_loan_type))"
      ]
    },
    {
      "cell_type": "code",
      "execution_count": null,
      "metadata": {
        "id": "4SKQ0f6fqoFY"
      },
      "outputs": [],
      "source": [
        "# unique occupation of the customer\n",
        "customer_df['Occupation'].unique()"
      ]
    },
    {
      "cell_type": "code",
      "execution_count": null,
      "metadata": {
        "id": "ITQfzLz0OYW7"
      },
      "outputs": [],
      "source": [
        "# 1.The function was created to identify potential fraudulent activity by checking for student loans taken out by individuals with professional occupations.\n",
        "#   Given that students are typically in early stages of their careers or education,\n",
        "#   it is unusual for individuals with established professional roles (such as doctors, engineers, or managers) to have student loans.\n",
        "#   This function helps flag such instances where a person with a professional occupation has taken a student loan,\n",
        "#   which could be a red flag for potential misuse or fraudulent behavior.\n",
        "\n",
        "# 2.In the dataset, the \"Student\" term is not present in the occupation column, which creates a gap in identifying people who are actually students\n",
        "#   and might have valid student loans. The function fills this gap by flagging loans for people in professional roles,\n",
        "#   who are less likely to be students but may still have taken out a student loan. If such a case arises, it could indicate fraudulent or suspicious activity.\n",
        "\n",
        "# creating a function to categorize valid and invalid student loan presence\n",
        "def validate_occup_std_loan(loans):\n",
        "  try:\n",
        "    if 'Student Loan' in loans:\n",
        "      return 'Invalid: Student Loan present'\n",
        "\n",
        "    return 'Valid'\n",
        "\n",
        "  except Exception as e:\n",
        "    # Catches any other unexpected errors\n",
        "    return f\"An error occurred: {e}\"\n"
      ]
    },
    {
      "cell_type": "code",
      "execution_count": null,
      "metadata": {
        "id": "qijeEaMxjMLd"
      },
      "outputs": [],
      "source": [
        "# creating a new column to check for valid loan\n",
        "customer_df['Loan_Profile_Validity'] = customer_df['Type_of_Loan'].apply(validate_occup_std_loan)"
      ]
    },
    {
      "cell_type": "code",
      "execution_count": null,
      "metadata": {
        "id": "0_TJLECTj5kX"
      },
      "outputs": [],
      "source": [
        "# count the values of valid and invalid student loans\n",
        "customer_df['Loan_Profile_Validity'].value_counts()"
      ]
    },
    {
      "cell_type": "code",
      "execution_count": null,
      "metadata": {
        "id": "XGYrWK9KkE0a"
      },
      "outputs": [],
      "source": [
        "# creating a crosstab to show age and loan profile validity as person with age more than 23 indicates fraudlent behaviour\n",
        "pd.crosstab(index=customer_df['Loan_Profile_Validity'],columns=[customer_df['Age_Category'],customer_df['Credit_Score_Category']],margins=True)"
      ]
    },
    {
      "cell_type": "code",
      "execution_count": null,
      "metadata": {
        "id": "-Jbc1sSMIq7f"
      },
      "outputs": [],
      "source": [
        "# 1.The function was created to identify potential high-risk loans among individuals aged 14-24,\n",
        "#   which is often considered a vulnerable age group in terms of financial maturity and decision-making.\n",
        "#   Given that young adults may not yet have established stable credit histories or sufficient financial stability,\n",
        "#   loans such as Mortgage Loans, Home Equity Loans, and Personal Loans could indicate irregular or potentially fraudulent financial behavior.\n",
        "\n",
        "# 2.These loan types(Personal Loan,Home Equity Loan, Mortgage Loan) are typically associated with significant financial commitments,\n",
        "#   and it is unusual for individuals in the 14-24 age range to be taking on such substantial debt,\n",
        "#   especially when they are in the early stages of their financial lives.\n",
        "#   As a result, these loan types might be red flags for potential fraud, financial distress, or misuse of credit.\n",
        "\n",
        "# By implementing this function, it flag records where individuals in the 14-24 age group have taken out any of these high-risk loans.\n",
        "def checkLoanFlag(age,loan_types,lower_fence):\n",
        "  try:\n",
        "    if lower_fence <= age <= 24:\n",
        "      target_loans = ['Personal Loan', 'Home Equity Loan', 'Mortgage Loan']\n",
        "      loan_types_list = list()\n",
        "      for loan in loan_types.split(','):\n",
        "        loan_types_list.append(loan.replace('and','').strip())\n",
        "\n",
        "      # Check if any of the target loan types are in the list\n",
        "      matching_loans = [loan for loan in target_loans if loan in loan_types_list]\n",
        "\n",
        "      # if loan found then it will be red flag that person with age of 14-24 take these loans\n",
        "      if matching_loans:\n",
        "        return 'Red Flag: High-Risk Loan'\n",
        "\n",
        "      else:\n",
        "        return 'No Red Flag: Low-Risk Loan'\n",
        "\n",
        "    else:\n",
        "      return 'No Red Flag: Low-Risk Loan'\n",
        "\n",
        "  except Exception as e:\n",
        "    # Catch all unexpected errors\n",
        "    return f\"An error occurred: {e}\"\n"
      ]
    },
    {
      "cell_type": "code",
      "execution_count": null,
      "metadata": {
        "id": "lVgfB5uCIsB-"
      },
      "outputs": [],
      "source": [
        "# creating a column of high risk loan flag for the age of 14-24\n",
        "customer_df['high_risk_loan_flag_14_24'] = customer_df.apply(lambda row: checkLoanFlag(row['Age'],row['Type_of_Loan'],lower_fence=lower_fence_age), axis=1)"
      ]
    },
    {
      "cell_type": "code",
      "execution_count": null,
      "metadata": {
        "id": "Rob0GdNyRZPT"
      },
      "outputs": [],
      "source": [
        "# count of values of red flag and no red flag\n",
        "customer_df['high_risk_loan_flag_14_24'].value_counts()"
      ]
    },
    {
      "cell_type": "code",
      "execution_count": null,
      "metadata": {
        "id": "TkzlgX7Lsg3D"
      },
      "outputs": [],
      "source": [
        "# creating a crosstab to show realtion between credit score and person who take high risk loans at the age of 14-24\n",
        "pd.crosstab(index=customer_df['high_risk_loan_flag_14_24'],columns=customer_df['Credit_Score_Category'],margins=True)"
      ]
    },
    {
      "cell_type": "code",
      "execution_count": null,
      "metadata": {
        "id": "vz9RbcA9tIsz"
      },
      "outputs": [],
      "source": [
        "# creating a groupby to show correlation of credit score and high risk loan with other features\n",
        "customer_df.groupby(['high_risk_loan_flag_14_24','Credit_Score_Category']).agg({'Num_of_Loan':'mean','Num_of_Delayed_Payment':'mean','Num_Credit_Inquiries':'mean','Outstanding_Debt':'mean','Credit_Utilization_Ratio':'mean','Credit_History_Age':'mean'}).round()"
      ]
    },
    {
      "cell_type": "code",
      "execution_count": null,
      "metadata": {
        "id": "H4aG_RQALX4h"
      },
      "outputs": [],
      "source": [
        "# unique values of Payment_of_Min_Amount column\n",
        "customer_df['Payment_of_Min_Amount'].unique()"
      ]
    },
    {
      "cell_type": "code",
      "execution_count": null,
      "metadata": {
        "id": "eqklYv9xbwRT"
      },
      "outputs": [],
      "source": [
        "# Handling the 'NM' value by replacing it with 'NaN'\n",
        "customer_df['Payment_of_Min_Amount'] = customer_df['Payment_of_Min_Amount'].replace('NM', np.nan)"
      ]
    },
    {
      "cell_type": "code",
      "execution_count": null,
      "metadata": {
        "id": "1mAwqqUmLX06"
      },
      "outputs": [],
      "source": [
        "# creating a crosstab to show relation between Payment_of_Min_Amount and Credit_Score_Category\n",
        "pd.crosstab(customer_df['Payment_of_Min_Amount'],customer_df['Credit_Score_Category'],margins=True)"
      ]
    },
    {
      "cell_type": "code",
      "execution_count": null,
      "metadata": {
        "id": "KHjtBBLJLXxh"
      },
      "outputs": [],
      "source": [
        "# unique values in Payment_Behaviour\n",
        "customer_df['Payment_Behaviour'].unique()"
      ]
    },
    {
      "cell_type": "code",
      "execution_count": null,
      "metadata": {
        "id": "WW79BxTfLXto"
      },
      "outputs": [],
      "source": [
        "# creating a crosstab to show relation between Payment_Behaviour and Credit_Score_Category\n",
        "\n",
        "pd.crosstab(index=customer_df['Payment_Behaviour'],columns=customer_df['Credit_Score_Category'],margins=True).sort_values(by='Good',ascending=False)"
      ]
    },
    {
      "cell_type": "code",
      "execution_count": null,
      "metadata": {
        "id": "a32MLPr_JPZ7"
      },
      "outputs": [],
      "source": [
        "# unique credit card count\n",
        "customer_df['Num_Credit_Card'].unique()"
      ]
    },
    {
      "cell_type": "code",
      "execution_count": null,
      "metadata": {
        "id": "RBmZmsB1YaN0"
      },
      "outputs": [],
      "source": [
        "# creating a crosstab to analyze the relation between number of credit card customer having and the credit Score category\n",
        "pd.crosstab(index=customer_df['Num_Credit_Card'],columns=customer_df['Credit_Score_Category'],margins=True).sort_values(by='Good',ascending=False)"
      ]
    },
    {
      "cell_type": "code",
      "execution_count": null,
      "metadata": {
        "id": "e2XhepdLQ1nW"
      },
      "outputs": [],
      "source": [
        "# creating groupby to analyze number of credit card inquiries and number of credit cards\n",
        "customer_df.groupby('Num_Credit_Card')['Num_Credit_Inquiries'].describe().round(2)"
      ]
    },
    {
      "cell_type": "code",
      "execution_count": null,
      "metadata": {
        "id": "4QzvBom1JBOP"
      },
      "outputs": [],
      "source": [
        "# creating groupby to analyze number of credit card and credit utilization ratio\n",
        "customer_df.groupby('Num_Credit_Card')['Credit_Utilization_Ratio'].describe().round(2)"
      ]
    },
    {
      "cell_type": "code",
      "execution_count": null,
      "metadata": {
        "id": "lSQZuhDxuhrr"
      },
      "outputs": [],
      "source": [
        "# creating a groupby to analyze number of loan taken by the customer with other features\n",
        "customer_df.groupby('Num_of_Loan').agg({'Monthly_Inhand_Salary':'mean','Num_of_Delayed_Payment':'mean','Num_Credit_Inquiries':'mean','Outstanding_Debt':'mean'}).round()"
      ]
    },
    {
      "cell_type": "code",
      "execution_count": null,
      "metadata": {
        "id": "4sROmX9fYyyk"
      },
      "outputs": [],
      "source": [
        "# unique number of loans\n",
        "customer_df['Num_Bank_Accounts'].unique()"
      ]
    },
    {
      "cell_type": "code",
      "execution_count": null,
      "metadata": {
        "id": "oEb_dP0Ra3hy"
      },
      "outputs": [],
      "source": [
        "# creating group by to analyze the number of bank accounts and outstanding debt\n",
        "# as multiple bank accounts combined with high debt might be used for shuffle funds in suspicious manner\n",
        "customer_df.groupby('Num_Bank_Accounts')['Outstanding_Debt'].describe().round(2)"
      ]
    },
    {
      "cell_type": "markdown",
      "metadata": {
        "id": "7MGHhShdfCpS"
      },
      "source": [
        "## What all manipulations have you done and insights you found?"
      ]
    },
    {
      "cell_type": "markdown",
      "metadata": {
        "id": "BDG9U1wQxW4x"
      },
      "source": [
        "**In this Exploratory Data Analysis (EDA) project on Paisa Bazaar Credit Score and Fraud Detection, several data preprocessing steps and transformations were carried out to make the dataset more understandable and to uncover meaningful insights.**\n",
        "\n",
        "**Manipulations which have Done:**\n",
        "1. Renaming Columns for Better Clarity:\n",
        "The \"Credit Score\" column was renamed to \"Credit Score Category\" to better represent the values (e.g., Good, Bad, Standard) and make it more intuitive for further analysis.\n",
        "\n",
        "2. Formatting the 'Month' Column:\n",
        "The \"Month\" column, which had numerical values (1-8), was converted into month names (e.g., January, February) to improve readability and provide better insights when analyzing monthly trends.\n",
        "\n",
        "3. Validating SSN (Social Security Number):\n",
        "*   A function was created to check the validity of the SSN for each customer. A new column, \"SSN Validity\", was added to indicate whether the SSN was valid or invalid.\n",
        "*   The distribution of valid and invalid SSNs was analyzed to detect any anomalies or potential data issues related to fraud.\n",
        "*   The relationship between SSN validity and the credit score was analyzed to check if there was any correlation between the two, particularly to identify if invalid SSNs were associated with poor credit scores.\n",
        "\n",
        "5. Comparing Credit Score and Annual Income:\n",
        "The Credit Score was compared with the Annual Income of customers to investigate any patterns between income levels and credit score categories, which could reveal insights into financial behaviors.\n",
        "\n",
        "6. Creating Salary-Related Columns:\n",
        " A new column, \"Expected Monthly Salary,\" was created based on each customer's reported annual income. Additionally, two new columns—\"Monthly Salary Discrepancy\" and \"Percentage Discrepancy\"—were introduced to highlight the differences between the expected and reported monthly salaries. To further enhance the analysis, a function was developed to categorize these discrepancies, enabling later exploration of their relationship with other variables.This discrepancy can be visualized to identify outliers and investigate potential fraudulent activities or data inconsistencies.\n",
        "\n",
        "7. Cleaning 'Credit Mix' Column:\n",
        "The values in the \"Credit Mix\" column were adjusted to make them more understandable, e.g., changing “Good” to “Good Credit Mix”. This transformation helped make the analysis of credit behavior more meaningful.\n",
        "\n",
        "8. Categorizing Customer Age:\n",
        "A function was created to categorize the raw age data into age categories (e.g., 14-23, 24-35, etc.), allowing for more effective segmentation and better analysis of how credit score correlates with different age groups.\n",
        "\n",
        "9. Extracting Unique Loan Types:\n",
        "A function was used to extract unique loan types from the \"Types of Loan\" column where multiple loan types were listed. This allowed for the analysis of individual loan types and their distribution across the dataset.\n",
        "\n",
        "10. Identifying Fraudulent Behavior Based on Occupation and Loan Type:\n",
        "*   Upon examining the unique occupations in the dataset, it was found that the term \"Student\" was missing, yet student loans were listed. A function was created to identify any occupation that might be incorrectly associated with student loans, leading to a new column for categorizing valid and invalid student loans.\n",
        "*  The validity of these loans was analyzed  and compared with age categories to understand any age-related patterns.\n",
        "\n",
        "11. High-Risk Loan Flag Based on Age:\n",
        "*   A function was developed to flag individuals in the age group 14-23 who had taken mortgage loans, home equity loans, or personal loans, as these types of loans are unusual for this age group and could suggest fraudulent behavior. A new column, \"High-Risk Loan Flag\", was created to categorize loans as either \"Red Flag\" or \"No Red Flag\".\n",
        "*   The distribution of red flag loans was compared against credit score categories and credit utilization ratios to identify any patterns that suggest a higher likelihood of fraud.\n",
        "\n",
        "\n",
        "**Key Insights Found:**\n",
        "\n",
        "*  The data reveals that 21.6% of records have an invalid SSN, which could be a potential red flag for fraud risk. Individuals with a valid SSN dominate across all credit score categories, especially in the \"Standard\" category, which accounts for over half of the dataset. The prevalence of valid SSNs in higher credit score categories suggests a correlation between data reliability and creditworthiness. This distribution indicates the need for further investigation into the potential relationship between SSN validity and fraudulent activity, particularly within the \"Poor\" and \"Standard\" credit score groups.\n",
        "\n",
        "*  The data reveals that most customers have \"Minimal Discrepancy\" in salary, linked to better (\"Standard\") credit scores. As salary discrepancies increase, credit scores worsen, especially for those in \"High\" or \"Severe Discrepancy\" groups. Additionally, higher discrepancies correlate with greater outstanding debt, indicating increased financial risk and potential for fraud concerns.\n",
        "\n",
        "*  The analysis of the credit score categories shows distinct financial characteristics. The \"Good\" category has the highest mean value (65,203.67) and a wider range of variation, suggesting a strong financial profile but also higher dispersion, which might warrant further scrutiny for outliers or inconsistencies. The \"Poor\" category has the lowest mean (40,584.52) and a smaller range, indicating more concentrated, lower financial values. The \"Standard\" category falls in between, with a moderate mean (50,987.16) and distribution. These differences emphasize the potential for fraud analysis by comparing data spread and variability across credit categories to identify unusual patterns or outliers that could indicate fraudulent behavior.\n",
        "\n",
        "*  The comparison of credit score categories highlights key differences in financial behavior. Individuals in the \"Good\" category have a slightly higher credit utilization ratio (33%) and fewer credit cards (4 on average), loans (2), and credit inquiries (3), indicating responsible credit management. The \"Poor\" category shows a higher average number of credit cards (7), loans (5), and credit inquiries (8), suggesting potential financial instability or a higher risk profile. The \"Standard\" group is moderate across all variables, but with elevated credit inquiries (5) compared to the \"Good\" category. These patterns are crucial for fraud analysis, as a high number of credit inquiries or loans might flag risky or potentially fraudulent financial activity.\n",
        "\n",
        "*   Individuals with a Bad Credit Mix are more likely to have Poor credit scores (14,289 out of 23,768), suggesting that poor credit mix is a risk factor for low creditworthiness. In contrast, a Good Credit Mix is strongly associated with Good credit scores (14,848 out of 30,384), indicating that a favorable credit mix often corresponds with higher creditworthiness. The Standard Credit Mix has a more balanced distribution but is concentrated in the Standard credit score category (33,361 out of 45,848). These insights are useful for identifying patterns in credit risk and may help detect profiles with a higher likelihood of fraud based on credit mix and score categories.\n",
        "\n",
        "*  The data reveals that middle-aged (34-42) and young adults (25-33) have the highest counts of good and standard credit mixes, indicating stronger credit profiles. Older adults (43-56) also show a stable good credit mix. However, young people (14-24) exhibit a higher bad credit mix, signaling potential credit risk. In terms of delayed payments, most age groups (14-42) average 14 delays, while older adults average 11, suggesting similar risk profiles for younger and middle-aged groups, with slightly lower risk in older adults. These insights can help target high-risk groups for credit improvement and fraud prevention strategies.\n",
        "\n",
        "*   There is a notable presence of “Invalid” loan profiles (associated with student loans) among all age groups, especially in the “Poor” credit score category. Middle-aged adults (34-42) and young adults (25-33) with poor credit scores show a particularly high count of invalid loan profiles. This trend suggests that individuals in these age groups with poor credit scores might be at higher risk for credit issues, and the presence of invalid loan profiles could signal potential red flags for fraud detection. Identifying these patterns can help in refining risk assessment and detecting potentially fraudulent loan profiles.\n",
        "\n",
        "*   The analysis reveals that most loans have no red flags, with lower risk generally associated with good and standard credit scores. Poor credit scores show a higher proportion of red flags, indicating greater risk. Key risk indicators include more delayed payments, higher outstanding debt, and increased credit inquiries in red-flagged cases. Credit utilization appears consistent, but longer credit histories are linked to lower risk. Payment behaviors, like paying only the minimum amount, may also influence risk assessment.\n",
        "\n",
        "*   The analysis reveals as the number of loans (Num_of_Loan) increases, the Monthly_Inhand_Salary generally decreases. Additionally, a higher number of loans correlates with more Num_of_Delayed_Payment and Num_Credit_Inquiries, as well as a higher Outstanding_Debt. This trend may indicate increased financial strain or risk among individuals with multiple loans, which could be relevant for assessing creditworthiness and the likelihood of fraud. For example, individuals with 8-9 loans show significantly higher outstanding debt and delayed payments, suggesting they may have lower credit scores and higher risk factors.\n",
        "\n",
        "*  Higher numbers of credit cards are associated with lower credit scores, more credit inquiries, and slightly reduced credit utilization ratios. People with 8+ cards generally fall into poorer credit categories and have many inquiries, indicating potential financial strain or credit risk. This information is valuable for assessing credit score and identifying potential fraud risks.\n",
        "\n",
        "*   From this data, we observe a general upward trend in outstanding debt as the number of bank accounts increases. This pattern could indicate that individuals with more bank accounts tend to carry higher debt, possibly affecting their credit score and fraud risk. The steep increase in debt after five bank accounts suggests a potential threshold, which might be relevant for identifying high-risk profiles. This trend could be an indicator to monitor for potential creditworthiness and fraud likelihood in credit score and fraud analysis.\n",
        "\n",
        "\n",
        "\n",
        "\n",
        "\n",
        "\n",
        "\n",
        "\n",
        "\n"
      ]
    },
    {
      "cell_type": "markdown",
      "metadata": {
        "id": "l9Q61KPmXuuJ"
      },
      "source": [
        "# **4. Data Vizualization, Storytelling & Experimenting with charts : Understand the relationships between variables**"
      ]
    },
    {
      "cell_type": "markdown",
      "metadata": {
        "id": "VqcaaCb2KOyV"
      },
      "source": [
        "## Chart 1: Pie Chart\n",
        "\n"
      ]
    },
    {
      "cell_type": "code",
      "execution_count": null,
      "metadata": {
        "id": "7EHjpMLpOHnF"
      },
      "outputs": [],
      "source": [
        "# creating a pie chart to show distributions of credit score,credit mix and payment behaviour of the customer\n",
        "\n",
        "fig, axes = plt.subplots(2, 2, figsize=(15, 10))\n",
        "\n",
        "# plot 1: credit score distribution\n",
        "axes[0, 0].pie(x=customer_df.groupby('Credit_Score_Category')['Customer_ID'].count().reset_index()['Customer_ID'],\n",
        "        labels=customer_df.groupby('Credit_Score_Category')['Customer_ID'].count().reset_index()['Credit_Score_Category']\n",
        "        ,autopct='%1.1f%%')\n",
        "\n",
        "axes[0, 0].set_title('Distribution of Customer Credit Scores')\n",
        "\n",
        "# plot 2: credit mix distribution\n",
        "axes[0, 1].pie(x=customer_df.groupby('Age_Category')['Customer_ID'].count().reset_index()['Customer_ID'],\n",
        "        labels=customer_df.groupby('Age_Category')['Customer_ID'].count().reset_index()['Age_Category']\n",
        "        ,autopct='%1.1f%%')\n",
        "\n",
        "axes[0, 1].set_title('Age Distribution')\n",
        "\n",
        "# plot 3: distribution of payment behaviour of the customer\n",
        "axes[1, 0].pie(x=customer_df.groupby('Payment_Behaviour')['Customer_ID'].count().reset_index()['Customer_ID'],\n",
        "        labels=customer_df.groupby('Payment_Behaviour')['Customer_ID'].count().reset_index()['Payment_Behaviour']\n",
        "        ,autopct='%1.1f%%')\n",
        "\n",
        "axes[1, 0].set_title('Distribution of Customer Payment Behaviours')\n",
        "\n",
        "# Turn off the axis for the subplot at axes[1, 1]\n",
        "axes[1, 1].axis('off')\n",
        "\n",
        "plt.tight_layout()\n",
        "plt.show()\n"
      ]
    },
    {
      "cell_type": "markdown",
      "source": [
        "###1. Why did you pick the specific chart?"
      ],
      "metadata": {
        "id": "0TWvK3wtw5eZ"
      }
    },
    {
      "cell_type": "markdown",
      "source": [
        "I chose a pie chart to display the distribution of credit score categories, age groups, and payment behavior because it effectively visualizes the proportional breakdown of these customer attributes. A pie chart allows for an easy comparison of how each category contributes to the overall dataset, helping to quickly identify trends and patterns in customer profiles, such as the most common credit scores or age groups, and common payment behaviors."
      ],
      "metadata": {
        "id": "kixycHyXw96b"
      }
    },
    {
      "cell_type": "markdown",
      "source": [
        "###2. What is/are the insight(s) found from the chart?"
      ],
      "metadata": {
        "id": "aOKc7NYAw6-m"
      }
    },
    {
      "cell_type": "markdown",
      "source": [
        "1. Customer Credit Scores:\n",
        "*   Standard Credit Scores Dominate: Over half of the customers (53.2%) have a \"Standard\" credit score, representing the average customer base.\n",
        "*   Poor Credit Scores (29%): A significant portion of customers falls into the \"Poor\" credit score category, requiring attention for risk management.\n",
        "*   Good Credit Scores (17.8%): A relatively small portion, suggesting limited high-quality credit customers.\n",
        "\n",
        "2. Age Distribution:\n",
        "*   Young Adults (25-33): The largest group (26.2%), suggesting financial products could focus on this demographic.\n",
        "*   Middle-Aged Adults (34-42) and Older Adults (43-56): Together, they form a significant customer base (48.5%).\n",
        "*   Young People (14-24): At 25.2%, this group is comparable to Middle-Aged Adults, likely representing early-stage financial product users.\n",
        "\n",
        "3. Customer Payment Behaviors:\n",
        "*   Largest Category: Low_spent_Small_value_payments (28.6%) suggests a significant portion of customers engage in low-value, low-spending behaviors.\n",
        "*   High Spending Insights: High_spent_Medium_value_payments (19.7%) and High_spent_Large_value_payments (14.7%) indicate a smaller but notable segment of high spenders.\n",
        "*   Low Spenders Across Values: Low_spent_Large_value_payments (10.8%) is the smallest segment, indicating fewer customers in this category.\n",
        "\n",
        "\n",
        "\n",
        "\n",
        "\n",
        "\n"
      ],
      "metadata": {
        "id": "iZOUDmUdxTIC"
      }
    },
    {
      "cell_type": "markdown",
      "source": [
        "###3. Will the gained insights help creating a positive business impact?\n",
        "Are there any insights that lead to negative growth? Justify with specific reason."
      ],
      "metadata": {
        "id": "RWe296Inw8Y4"
      }
    },
    {
      "cell_type": "markdown",
      "source": [
        "The insights enable targeted strategies like offering tailored financial products (spending behavior), improving customer credit scores, and age-specific services. These actions can reduce fraud risks and enhance customer satisfaction, driving positive growth.\n",
        "\n",
        "The high proportion of \"Poor\" credit scores (29%) and low-value spenders (28.6%) may indicate a risk-prone customer base, leading to higher defaults or fraud if not addressed. Mitigating these risks with proactive measures is crucial to avoid negative impact."
      ],
      "metadata": {
        "id": "GHjHTiPaxc76"
      }
    },
    {
      "cell_type": "markdown",
      "metadata": {
        "id": "fwPaOAGATxbI"
      },
      "source": [
        "## Chart 2: Line Chart"
      ]
    },
    {
      "cell_type": "markdown",
      "source": [
        "###A. Number of Delayed Payments vs (Outstanding Debt and Changed Cr Card Limit)"
      ],
      "metadata": {
        "id": "jyvMm8peEzB3"
      }
    },
    {
      "cell_type": "code",
      "source": [
        "# dual axis line chart showing number of payments delayed and outstanding debt, changed cr card limit\n",
        "fig, ax1 = plt.subplots(figsize=(15, 6))\n",
        "\n",
        "# plotting 1st axis\n",
        "sns.lineplot(x='Num_of_Delayed_Payment', y='Outstanding_Debt',marker='o',data=customer_df,\n",
        "         linewidth=2,ax=ax1,color='blue',label='Outstanding Debt')\n",
        "ax1.set_ylabel(\"Outstanding Debt of the Customer\", color=\"blue\")\n",
        "ax1.tick_params(axis='y', labelcolor=\"blue\")\n",
        "\n",
        "ax2 = ax1.twinx()\n",
        "\n",
        "# plotting 2nd axis\n",
        "sns.lineplot(x='Num_of_Delayed_Payment', y='Changed_Credit_Limit',marker='o',linewidth=2, data = customer_df,ax=ax2,\n",
        "         color='red',label='Changed Cr Limit')\n",
        "ax2.set_ylabel(\"Change in Cr Card Limit\", color=\"red\")\n",
        "ax2.tick_params(axis='y', labelcolor=\"red\")\n",
        "\n",
        "\n",
        "plt.title('Number of Delayed Payments vs (Outstanding Debt and Changed Credit Limit)')\n",
        "\n",
        "\n",
        "plt.tight_layout()\n",
        "plt.show()\n",
        "\n"
      ],
      "metadata": {
        "id": "0kWR4ncN9Mlc"
      },
      "execution_count": null,
      "outputs": []
    },
    {
      "cell_type": "markdown",
      "source": [
        "#### 1. Why did you pick the specific chart?"
      ],
      "metadata": {
        "id": "lVL97AB9FOla"
      }
    },
    {
      "cell_type": "markdown",
      "source": [
        "This chart provides a comprehensive view of how delayed payments correlate with both debt accumulation and credit limit changes, making it valuable for identifying patterns or anomalies in customer behavior."
      ],
      "metadata": {
        "id": "EyEzCb2XF76d"
      }
    },
    {
      "cell_type": "markdown",
      "source": [
        "#### 2. What is/are the insight(s) found from the chart?"
      ],
      "metadata": {
        "id": "SBy4gSWLFP6p"
      }
    },
    {
      "cell_type": "markdown",
      "source": [
        "\n",
        "\n",
        "*   Outstanding debt increases significantly as the number of delayed payments rises. This indicates a direct relationship between delayed payments and financial stress on the customer.\n",
        "*   The change in credit card limits also increases with delayed payments, suggesting credit providers may be extending higher limits to customers who already have delayed payments, possibly to manage short-term defaults.Alternatively, this might reflect poor credit risk management policies and potentially signaling a fraud scheme involving rapidly increasing credit limits.\n",
        "*   Both the outstanding debt and the credit limit show a leveling-off trend when the number of delayed payments exceeds 20, indicating a possible threshold where customers face capped debt or credit limit adjustments.\n",
        "\n",
        "\n",
        "\n",
        "\n"
      ],
      "metadata": {
        "id": "xLg4BQtHHkBw"
      }
    },
    {
      "cell_type": "markdown",
      "source": [
        "#### 3. Will the gained insights help creating a positive business impact?\n",
        "Are there any insights that lead to negative growth? Justify with specific reason."
      ],
      "metadata": {
        "id": "8XEguEnkFQ-L"
      }
    },
    {
      "cell_type": "markdown",
      "source": [
        "\n",
        "\n",
        "*   Risk Mitigation: Identifying customers with increasing delayed payments and outstanding debts early can help implement measures like stricter credit limits or financial counseling.\n",
        "*   Policy Optimization: Reviewing credit limit changes for high-risk customers can prevent default escalation.\n",
        "*   If the observed increase in credit limits for customers with delayed payments represents a deliberate policy, it may lead to increased default risks. Prolonging credit to struggling customers can exacerbate their financial instability and harm the business.\n",
        "*   Allowing high debt accumulation without addressing delayed payments can create a credit bubble, leading to losses in the long run. Tightening policies for high-risk customers might result in reduced short-term revenues but ensures long-term financial health for the company.\n",
        "\n",
        "\n",
        "\n"
      ],
      "metadata": {
        "id": "KR1uqEfFGGa8"
      }
    },
    {
      "cell_type": "markdown",
      "source": [
        "### B. Number of Cr Card Inquiries vs(Outstanding Debt and Credit History Age)"
      ],
      "metadata": {
        "id": "JCHPg4epJysF"
      }
    },
    {
      "cell_type": "code",
      "source": [
        "# dual axis line chart showing number of cr card inquiries and outstanding debt,credit history age\n",
        "fig, ax1 = plt.subplots(figsize=(15, 6))\n",
        "\n",
        "# plotting 1st axis\n",
        "sns.lineplot(x='Num_Credit_Inquiries', y='Outstanding_Debt',marker='o',data=customer_df,\n",
        "         linewidth=2,ax=ax1,color='blue',label='Outstanding Debt')\n",
        "ax1.set_ylabel(\"Outstanding Debt of the Customer\", color=\"blue\")\n",
        "ax1.tick_params(axis='y', labelcolor=\"blue\")\n",
        "\n",
        "\n",
        "\n",
        "ax2 = ax1.twinx()\n",
        "\n",
        "# plotting 2nd axis\n",
        "sns.lineplot(x='Num_Credit_Inquiries', y='Credit_History_Age',marker='o',linewidth=2, data = customer_df,ax=ax2,\n",
        "         color='red',label='Credit History Age')\n",
        "ax2.set_ylabel(\"Credit History Age of the Customer\", color=\"red\")\n",
        "ax2.tick_params(axis='y', labelcolor=\"red\")\n",
        "\n",
        "\n",
        "\n",
        "plt.title('Number of Cr Card Inquiries vs (Outstanding Debt and Credit History Age)')\n",
        "\n",
        "\n",
        "plt.tight_layout()\n",
        "plt.show()\n",
        "\n"
      ],
      "metadata": {
        "id": "4Sodlhk7MnRK"
      },
      "execution_count": null,
      "outputs": []
    },
    {
      "cell_type": "markdown",
      "source": [
        "#### 1. Why did you pick the specific chart?"
      ],
      "metadata": {
        "id": "m_mGQjAfKJ_y"
      }
    },
    {
      "cell_type": "markdown",
      "source": [
        "This dual-axis line chart was chosen to analyze the relationship between Variables,this visualization highlights how customers' outstanding debts and credit history age vary as they inquire about credit more frequently. The dual-axis format is effective in comparing these trends side by side."
      ],
      "metadata": {
        "id": "e3z3nGbkKfwC"
      }
    },
    {
      "cell_type": "markdown",
      "source": [
        "#### 2. What is/are the insight(s) found from the chart?"
      ],
      "metadata": {
        "id": "2P0uEwgwKLC_"
      }
    },
    {
      "cell_type": "markdown",
      "source": [
        "\n",
        "\n",
        "*   Outstanding debt starts low and increases sharply with more credit inquiries (up to around 7 inquiries), suggesting that customers making frequent inquiries are likely taking on more debt. Beyond this point, outstanding debt stabilizes and begins to decline slightly.\n",
        "\n",
        "*   Credit history age decreases consistently as the number of credit inquiries increases. This indicates that customers with frequent inquiries are relatively newer borrowers with shorter credit histories.\n",
        "*   At approximately 7 credit inquiries, the trends for outstanding debt and credit history age intersect. This point may represent a transition where risk profiles change significantly (e.g., newer borrowers with increasing debt)."
      ],
      "metadata": {
        "id": "lSX_ARd1KggX"
      }
    },
    {
      "cell_type": "markdown",
      "source": [
        "#### 3. Will the gained insights help creating a positive business impact?\n",
        "Are there any insights that lead to negative growth? Justify with specific reason."
      ],
      "metadata": {
        "id": "mc1WnZqBKL6B"
      }
    },
    {
      "cell_type": "markdown",
      "source": [
        "\n",
        "\n",
        "*   Frequent credit inquiries combined with rising debt suggest potential financial distress.Customers with low credit history age and high inquiries should be flagged for further monitoring.Insights can guide policies for limiting additional credit to customers with high inquiries but short credit histories.\n",
        "\n",
        "*   Providing credit to customers with frequent inquiries and increasing debt may lead to higher default rates, especially if their credit history age is short.Restricting credit based solely on high inquiries might exclude potentially reliable customers (e.g., individuals actively shopping for better financial products).\n",
        "*   These insights emphasize the need for balanced credit policies. Evaluating creditworthiness should incorporate both the number of inquiries and other factors like repayment history or income stability to avoid negative growth while maintaining a positive business impact.\n",
        "\n",
        "\n",
        "\n",
        "\n"
      ],
      "metadata": {
        "id": "ggDWWMPUL7Cu"
      }
    },
    {
      "cell_type": "markdown",
      "source": [
        "### C. Month vs(Number of Cr Card Inquiries and Cr Utilization Ratio)"
      ],
      "metadata": {
        "id": "Xj7qVmX0MQTp"
      }
    },
    {
      "cell_type": "code",
      "source": [
        "# dual axis line chart showing number of cr card inquiries and outstanding debt,credit history age\n",
        "fig, ax1 = plt.subplots(figsize=(15, 6))\n",
        "\n",
        "# plotting 1st axis\n",
        "sns.lineplot(x='Month_Name', y='Num_Credit_Inquiries',marker='o',data=customer_df,\n",
        "         linewidth=2,ax=ax1,color='blue',label='Number of Cr Card Inquiries')\n",
        "ax1.set_ylabel(\"Number of Cr Card Inquiries by the Customer\", color=\"blue\")\n",
        "ax1.tick_params(axis='y', labelcolor=\"blue\")\n",
        "ax1.legend(loc='upper left')\n",
        "\n",
        "ax2 = ax1.twinx()\n",
        "\n",
        "# plotting 2nd axis\n",
        "sns.lineplot(x='Month_Name', y='Credit_Utilization_Ratio',marker='o',linewidth=2, data = customer_df,ax=ax2,\n",
        "         color='red',label='Credit Utilization Ratio')\n",
        "ax2.set_ylabel(\"Credit Utilization Ratio\", color=\"red\")\n",
        "ax2.tick_params(axis='y', labelcolor=\"red\")\n",
        "ax2.legend(loc='upper right')\n",
        "\n",
        "\n",
        "plt.title('Month vs (Num_Credit_Inquiries and Credit_Utilization_Ratio)')\n",
        "\n",
        "\n",
        "plt.tight_layout()\n",
        "plt.show()\n",
        "\n"
      ],
      "metadata": {
        "id": "lmZ4J4LlNhUc"
      },
      "execution_count": null,
      "outputs": []
    },
    {
      "cell_type": "markdown",
      "source": [
        "#### 1. Why did you pick the specific chart?"
      ],
      "metadata": {
        "id": "BuvkPAJSMjz4"
      }
    },
    {
      "cell_type": "markdown",
      "source": [
        "This dual-axis line chart was chosen to analyze how 'Number of Credit Card Inquiries by the Customer' and 'Credit Utilization Ratio' vary across different months. This chart enables comparison of two metrics that are critical for understanding borrowing behavior and risk trends over time."
      ],
      "metadata": {
        "id": "ON4tuQawOrIz"
      }
    },
    {
      "cell_type": "markdown",
      "source": [
        "#### 2. What is/are the insight(s) found from the chart?"
      ],
      "metadata": {
        "id": "SuBcrOOxMklv"
      }
    },
    {
      "cell_type": "markdown",
      "source": [
        "\n",
        "\n",
        "*   The number of credit card inquiries shows a consistent increase from January to August, suggesting either a growing demand for credit or increased financial stress.The credit utilization ratio remains relatively stable, fluctuating slightly but generally staying in a narrow range between 32.15% and 32.45%.The peaks and troughs of the utilization ratio do not align directly with credit inquiries, indicating a weak correlation.\n",
        "*   While credit inquiries increase steadily, the credit utilization ratio shows more fluctuations without a consistent trend, suggesting that customers may be managing their credit utilization independently of their inquiry frequency.\n",
        "\n"
      ],
      "metadata": {
        "id": "vHn3_Je9O4XB"
      }
    },
    {
      "cell_type": "markdown",
      "source": [
        "#### 3. Will the gained insights help creating a positive business impact?\n",
        "Are there any insights that lead to negative growth? Justify with specific reason."
      ],
      "metadata": {
        "id": "XQz8x2w-MlXE"
      }
    },
    {
      "cell_type": "markdown",
      "source": [
        "\n",
        "\n",
        "*   The upward trend in inquiries can help the business prepare for growing customer demand by ensuring adequate resources for credit evaluation.The stable credit utilization ratio indicates that most customers are maintaining responsible credit usage despite increasing inquiries, which can inform policies for approving loans.Insights can be used to segment customers into categories based on inquiry frequency and credit utilization behavior for targeted financial products.\n",
        "*    If credit inquiries reflect financial stress rather than new borrowing opportunities, there could be a risk of defaults, especially if the trend continues over time.The weak correlation between credit utilization and inquiries may suggest that inquiries alone are not a sufficient indicator of financial health, requiring deeper analysis to avoid inaccurate credit decisions.\n",
        "*   These insights highlight the need for balancing customer support with risk assessment. Monitoring trends in credit utilization alongside inquiries over more extended periods can help prevent mismanagement of resources or defaults.\n",
        "\n"
      ],
      "metadata": {
        "id": "HES97fOoPP2j"
      }
    },
    {
      "cell_type": "markdown",
      "source": [
        "###D: Interest Rate vs(Delay from Due Date and Number of Payments Delayed)"
      ],
      "metadata": {
        "id": "JojgK7MCMmWz"
      }
    },
    {
      "cell_type": "code",
      "execution_count": null,
      "metadata": {
        "id": "w6C4oWYzeKey"
      },
      "outputs": [],
      "source": [
        "# dual axis line chart showing interes rate and delay from due date and number of payments delayed\n",
        "fig, ax1 = plt.subplots(figsize=(15, 6))\n",
        "\n",
        "# plotting 1st axis\n",
        "sns.lineplot(x='Interest_Rate', y='Delay_from_due_date',marker='o',data=customer_df,\n",
        "         linewidth=2,ax=ax1,color='blue',label='Delay from Due Date')\n",
        "ax1.set_ylabel(\"Number of Delayed Days from Due Date\", color=\"blue\")\n",
        "ax1.tick_params(axis='y', labelcolor=\"blue\")\n",
        "\n",
        "ax2 = ax1.twinx()\n",
        "# plotting 2nd axis\n",
        "sns.lineplot(x='Interest_Rate', y='Num_of_Delayed_Payment',marker='o',linewidth=2, data = customer_df,ax=ax2,\n",
        "         color='red',label='Number of Delayed Payments')\n",
        "ax2.set_ylabel(\"Number of Delayed Payments\", color=\"red\")\n",
        "ax2.tick_params(axis='y', labelcolor=\"red\")\n",
        "\n",
        "plt.title('Interest Rate vs (Delay from due date and Num of Delayed Payment)')\n",
        "\n",
        "plt.tight_layout()\n",
        "plt.show()\n",
        "\n"
      ]
    },
    {
      "cell_type": "markdown",
      "source": [
        "#### 1. Why did you pick the specific chart?"
      ],
      "metadata": {
        "id": "-JProoZ5QO1g"
      }
    },
    {
      "cell_type": "markdown",
      "source": [
        "The chart was chosen because it effectively compares the relationship between interest rates and two metrics: (1) the number of delayed payments and (2) the number of delayed days from the due date. By using dual y-axes, the chart provides a clear way to visualize and interpret how these variables correlate with the interest rate. The line chart is particularly suitable for showing trends and changes in these metrics as the interest rate increases."
      ],
      "metadata": {
        "id": "mL_wlXdORuNi"
      }
    },
    {
      "cell_type": "markdown",
      "source": [
        "####2. What is/are the insight(s) found from the chart?"
      ],
      "metadata": {
        "id": "fKc2EkH1QP28"
      }
    },
    {
      "cell_type": "markdown",
      "source": [
        "\n",
        "\n",
        "*    As the interest rate increases, there is a noticeable rise in both the number of delayed payments and the number of delayed days. This indicates that higher interest rates might make it harder for borrowers to make timely payments.Around a specific interest rate (likely between 15-20%), there is a sharp increase in the number of delayed payments and delayed days, suggesting a threshold where borrowers begin to struggle significantly.\n",
        "*   Plateau Effect, after a certain point, the metrics seem to stabilize despite the rising interest rates, implying that there might be an upper limit to delays regardless of the rate.\n",
        "\n",
        "\n"
      ],
      "metadata": {
        "id": "fMbBqTvXRv5A"
      }
    },
    {
      "cell_type": "markdown",
      "source": [
        "#### 3. Will the gained insights help creating a positive business impact?\n",
        "Are there any insights that lead to negative growth? Justify with specific reason."
      ],
      "metadata": {
        "id": "RXrPm90IQQ1v"
      }
    },
    {
      "cell_type": "markdown",
      "source": [
        "\n",
        "\n",
        "*   By identifying the interest rate thresholds where delays increase significantly, lenders can adjust their interest policies or provide targeted interventions (e.g., payment reminders, financial counseling) to reduce delayed payments and defaults.Insights from this chart could help develop risk-adjusted interest rate models that balance profitability with borrower affordability.\n",
        "*   Higher interest rates correlate with increased delays, which could lead to higher default rates and bad debts. This adversely impacts cash flow and customer retention.\n",
        "*  Borrowers facing excessive delays may lose trust in the institution, leading to reputational damage and reduced market competitiveness.\n",
        "*   Balancing interest rates to ensure profitability while minimizing delays is crucial. Identifying and acting on these insights enables businesses to design strategies that reduce risks and maintain borrower satisfaction, thereby fostering long-term growth.\n",
        "\n"
      ],
      "metadata": {
        "id": "BLt64pwbSPbV"
      }
    },
    {
      "cell_type": "markdown",
      "source": [
        "### E: Number of Cr Card vs(Delay from Due Date and Number of Payments delayed)"
      ],
      "metadata": {
        "id": "5reJ-7BSQRxi"
      }
    },
    {
      "cell_type": "code",
      "execution_count": null,
      "metadata": {
        "id": "pCLjJ3jEdSwt"
      },
      "outputs": [],
      "source": [
        "# creating dual axis line chart to show number of credit card and number of delayed days and number of payment delays\n",
        "fig, ax1 = plt.subplots(figsize=(15, 6))\n",
        "\n",
        "# plotting 1st axis\n",
        "sns.lineplot(x='Num_Credit_Card', y='Delay_from_due_date', data=customer_df.groupby('Num_Credit_Card')['Delay_from_due_date'].mean().round().reset_index(),\n",
        "             ax=ax1, marker='o', color='blue',label='Delay from Due Date')\n",
        "ax1.set_ylabel(\"Number of Delayed Days from Due Date\", color=\"blue\")\n",
        "ax1.tick_params(axis='y', labelcolor=\"blue\")\n",
        "\n",
        "# Create a second y-axis sharing the same x-axis\n",
        "ax2 = ax1.twinx()\n",
        "\n",
        "# plotting 2nd axis sharing the same x-axis\n",
        "sns.lineplot(x='Num_Credit_Card', y='Num_of_Delayed_Payment', data=customer_df.groupby('Num_Credit_Card')['Num_of_Delayed_Payment'].mean().round().reset_index(),\n",
        "             ax=ax2, marker='o', color='red',label='Number of Delayed Payments')\n",
        "ax2.set_ylabel(\"Number of Delayed Payments\", color=\"red\")\n",
        "ax2.tick_params(axis='y', labelcolor=\"red\")\n",
        "\n",
        "plt.title('Number of Cr Card vs (Delay from due date and Num of Delayed Payment )')\n",
        "\n",
        "plt.tight_layout()\n",
        "plt.show()"
      ]
    },
    {
      "cell_type": "markdown",
      "source": [
        "#### 1. Why did you pick the specific chart?"
      ],
      "metadata": {
        "id": "0GpBbar5TAzJ"
      }
    },
    {
      "cell_type": "markdown",
      "source": [
        "This chart was selected because it compares the relationship between the number of credit cards owned by a customer and two critical metrics: (1) the number of delayed payments and (2) the number of delayed days from the due date. A dual-axis line chart provides a clear view of how these metrics change as the number of credit cards increases, offering insights into customer behavior based on their credit portfolio."
      ],
      "metadata": {
        "id": "k5Cbh0AXTTck"
      }
    },
    {
      "cell_type": "markdown",
      "source": [
        "#### 2. What is/are the insight(s) found from the chart?"
      ],
      "metadata": {
        "id": "FwqkhczGTBww"
      }
    },
    {
      "cell_type": "markdown",
      "source": [
        "\n",
        "\n",
        "*   There is a general trend where an increase in the number of credit cards corresponds to higher delays in both payments and the number of delayed days.A significant rise is observed when the number of credit cards exceeds a certain level (around 6-8 credit cards), indicating a tipping point where customers may face difficulties managing multiple credit accounts. After 10 credit cards, the number of delayed payments slightly decreases while delayed days stabilize, suggesting that customers with very high credit card counts might have alternative strategies to manage payments or fewer active cards.\n",
        "\n",
        "\n",
        "\n",
        "\n"
      ],
      "metadata": {
        "id": "WRZ6Z-DmTjX8"
      }
    },
    {
      "cell_type": "markdown",
      "source": [
        "####3. Will the gained insights help creating a positive business impact?\n",
        "Are there any insights that lead to negative growth? Justify with specific reason."
      ],
      "metadata": {
        "id": "lhmRTOb4TCiW"
      }
    },
    {
      "cell_type": "markdown",
      "source": [
        "\n",
        "\n",
        "*   These insights can help financial institutions identify customers at risk of payment delays based on their number of credit cards. For example, customers with more than 6 cards may benefit from targeted interventions like reminders, flexible repayment plans, or credit consolidation offers.Credit card issuers can use this data to recommend optimal card limits or improve risk models for approving additional cards.\n",
        "*   The increase in delayed payments and days with more credit cards indicates potential customer over-leveraging, which can lead to higher default rates and financial losses for institutions.Issuing too many credit cards to a single customer without proper risk assessment can negatively impact both the customer’s financial health and the lender’s portfolio quality.\n",
        "*   Proactively managing and advising customers with high credit card counts can reduce delayed payments, foster loyalty, and improve financial outcomes for both the business and customers. However, failing to address this issue could lead to an increase in defaults and damage the lender's profitability and reputation.\n",
        "\n",
        "\n",
        "\n"
      ],
      "metadata": {
        "id": "6Q24tcPLT0CG"
      }
    },
    {
      "cell_type": "markdown",
      "metadata": {
        "id": "-mMsDQpFnehD"
      },
      "source": [
        "## Chart 3: Annual Income Distribution (Univariate)"
      ]
    },
    {
      "cell_type": "code",
      "execution_count": null,
      "metadata": {
        "id": "pc7CMc1ynfKl"
      },
      "outputs": [],
      "source": [
        "# creating a histogram to show distribution of annual income\n",
        "plt.figure(figsize=(18,6))\n",
        "\n",
        "sns.histplot(data=customer_df, x=\"Annual_Income\",  kde = True, color  = 'red',hue='Credit_Score_Category')\n",
        "plt.xlabel('Annual Income of the Customers')\n",
        "plt.ylabel('Frequency of Customers')\n",
        "plt.title('Distribution of Annual Income')\n",
        "plt.show()"
      ]
    },
    {
      "cell_type": "markdown",
      "source": [
        "###1. Why did you pick the specific chart?"
      ],
      "metadata": {
        "id": "7Z2xtqqQW2Hx"
      }
    },
    {
      "cell_type": "markdown",
      "source": [
        "This chart was chosen to analyze the distribution of annual income across different credit score categories (Good, Standard, and Poor). By combining a histogram with KDE (Kernel Density Estimation) curves for each category, the chart effectively illustrates both the frequency distribution and the relative income patterns of customers within each credit score group."
      ],
      "metadata": {
        "id": "dsCqJPWwW5yo"
      }
    },
    {
      "cell_type": "markdown",
      "source": [
        "### 2. What is/are the insight(s) found from the chart?"
      ],
      "metadata": {
        "id": "weQ5so7nW3GK"
      }
    },
    {
      "cell_type": "markdown",
      "source": [
        "*   Customers with Good credit scores are generally concentrated in higher income brackets, with their frequency peaking around ₹50,000 to ₹75,000. Customers with Standard credit scores dominate the mid-income range, with their peak frequency around ₹25,000 to ₹50,000.Customers with Poor credit scores are primarily in the lower-income brackets, peaking around ₹20,000 to ₹30,000.\n",
        "*   The distribution for \"Good\" credit scores is more right-skewed, indicating higher-income customers are more likely to maintain a good credit score.\"Poor\" credit scores are tightly concentrated in lower-income ranges, suggesting a possible correlation between income constraints and poor credit behavior.\n",
        "*  There is significant overlap in the mid-income range (₹25,000-₹50,000) between customers with Standard and Poor credit scores, suggesting that factors beyond income (e.g., spending habits, repayment behavior) influence the credit score."
      ],
      "metadata": {
        "id": "zslZFwD7XNZQ"
      }
    },
    {
      "cell_type": "markdown",
      "source": [
        "### 3. Will the gained insights help creating a positive business impact?\n",
        "Are there any insights that lead to negative growth? Justify with specific reason."
      ],
      "metadata": {
        "id": "3BFpjc1FW4HM"
      }
    },
    {
      "cell_type": "markdown",
      "source": [
        "\n",
        "\n",
        "\n",
        "\n",
        "*   The insights can help financial institutions better segment their customers.High-income customers with good credit scores could be targeted with premium credit cards or investment opportunities.Mid-income customers in the Standard category could benefit from personalized financial planning or credit improvement programs to boost their credit scores.Low-income customers in the Poor category can be offered credit counseling or lower-risk financial products to improve their financial health and reduce default risks.The data can also be used to refine lending criteria by incorporating income brackets into credit risk assessment models.\n",
        "*   Customers in lower-income brackets with poor credit scores represent a higher default risk, which could lead to financial losses for lenders if these customers are over-leveraged or provided credit without adequate risk assessment.Targeting high-income customers exclusively might ignore opportunities for growth in the mid-income segments, potentially leading to a stagnation in customer base expansion.\n",
        "*   Leveraging the data to design tailored financial products for different segments can enhance customer satisfaction, reduce credit risk, and increase profitability. However, failing to address the specific needs of at-risk customers in the low-income bracket could result in increased default rates, leading to negative financial impacts.\n",
        "\n",
        "\n",
        "\n",
        "\n",
        "\n",
        "\n"
      ],
      "metadata": {
        "id": "oR2QSIizXUVf"
      }
    },
    {
      "cell_type": "markdown",
      "metadata": {
        "id": "lMa26PlHoUAQ"
      },
      "source": [
        "## Chart 4: Monthly Salary Discrepancy (Univariate)"
      ]
    },
    {
      "cell_type": "code",
      "execution_count": null,
      "metadata": {
        "id": "eAkXL_t7oPx9"
      },
      "outputs": [],
      "source": [
        "# creating a boxplot to show distribution of monthly salary discrepancy\n",
        "fig = ps.box(customer_df,y='Monthly_Salary_Discrepancy')\n",
        "fig.show()"
      ]
    },
    {
      "cell_type": "markdown",
      "source": [
        "###1. Why did you pick the specific chart?"
      ],
      "metadata": {
        "id": "ML3j6CN4YzJ7"
      }
    },
    {
      "cell_type": "markdown",
      "source": [
        "This box plot was chosen because it effectively visualizes the distribution of the Monthly_Salary_Discrepancy variable. It highlights the central tendency (median), the spread of the data (quartiles), and the presence of any outliers. This type of visualization is ideal for identifying anomalies and understanding variability in numerical datasets."
      ],
      "metadata": {
        "id": "qG6d_oHqZJT-"
      }
    },
    {
      "cell_type": "markdown",
      "source": [
        "###2. What is/are the insight(s) found from the chart?"
      ],
      "metadata": {
        "id": "khAcNO7gYy1Z"
      }
    },
    {
      "cell_type": "markdown",
      "source": [
        "\n",
        "\n",
        "*   The median salary discrepancy is 152, indicating that most discrepancies cluster around this value.The data is positively skewed with outliers extending beyond the upper fence (453.13), reaching a maximum of 1747.213.The first and third quartiles are 76 and 228, respectively, showing that 50% of the data lies between these values.The lower fence and minimum value are 0, suggesting that there are instances with no discrepancy.\n",
        "*    The presence of significant outliers suggests that some individuals may have abnormally high salary discrepancies. These could signal potential fraud, data errors, or unusual transactions.\n",
        "\n"
      ],
      "metadata": {
        "id": "muY6UoeHZLM3"
      }
    },
    {
      "cell_type": "markdown",
      "source": [
        "###3. Will the gained insights help creating a positive business impact?\n",
        "Are there any insights that lead to negative growth? Justify with specific reason."
      ],
      "metadata": {
        "id": "y9sjWNA7Yysr"
      }
    },
    {
      "cell_type": "markdown",
      "source": [
        "\n",
        "\n",
        "*  The identification of outliers can help the business flag potentially fraudulent or erroneous transactions for further investigation. This reduces financial risk and improves fraud detection mechanisms.Understanding the range and distribution of discrepancies allows for better calibration of risk assessment models, enhancing decision-making processes.\n",
        "*   If a high percentage of outliers represents errors in data recording or systemic issues, it might reflect poor operational processes, leading to inefficiencies or mistrust among clients.Overreacting to minor discrepancies that are not truly fraudulent could alienate legitimate customers, harming the brand's reputation.\n",
        "*  By analyzing the outliers closely, the business can determine whether these are genuine fraud cases, system errors, or operational anomalies. Proactive measures to address these issues can enhance trust and operational efficiency. However, misinterpreting these insights or failing to act on them might negatively affect growth.\n",
        "\n",
        "\n",
        "\n"
      ],
      "metadata": {
        "id": "RlDZQIfHZZZl"
      }
    },
    {
      "cell_type": "markdown",
      "metadata": {
        "id": "43vfL2rBnoOm"
      },
      "source": [
        "## Chart 5: SSN Validity (Bivariate)"
      ]
    },
    {
      "cell_type": "code",
      "execution_count": null,
      "metadata": {
        "id": "l5--IPrTnowT"
      },
      "outputs": [],
      "source": [
        "# Creating subplots\n",
        "fig, axes = plt.subplots(1, 2, figsize=(15, 6))\n",
        "\n",
        "# Plot 1 - boxplot to show ssn validity and outstanding debt\n",
        "sns.barplot(x='SSN_Validity',y='Outstanding_Debt',data=customer_df,ax=axes[0],\n",
        "            estimator='mean',hue='Credit_Score_Category')\n",
        "axes[0].set_xlabel('SSN Validity of the Customer')\n",
        "axes[0].set_ylabel('Outstanding Debt of the Customer')\n",
        "axes[0].set_title('Outstanding Debt by SSN Validity')\n",
        "axes[0].get_legend().set_visible(False)\n",
        "\n",
        "# Plot 2 - boxplot to show ssn validity and number of credit card inquiries by the person\n",
        "sns.barplot(x='SSN_Validity',y='Num_Credit_Inquiries',data=customer_df,ax=axes[1],\n",
        "            estimator='mean',hue='Credit_Score_Category')\n",
        "axes[1].set_xlabel('SSN Validity of the Customer')\n",
        "axes[1].set_ylabel('Number of Cr Card Inquiries by the Customer ')\n",
        "axes[1].set_title('Number of Cr Card Inquiries by SSN Validity')\n",
        "axes[1].legend(loc='upper left',bbox_to_anchor=(1, 1),title='Credit Score')\n",
        "\n",
        "# Adjust layout\n",
        "plt.tight_layout()\n",
        "\n",
        "# Show plot\n",
        "plt.show()\n"
      ]
    },
    {
      "cell_type": "markdown",
      "source": [
        "###1. Why did you pick the specific chart?"
      ],
      "metadata": {
        "id": "bMSKX96hZxdQ"
      }
    },
    {
      "cell_type": "markdown",
      "source": [
        "This combination of bar plots was chosen to compare Outstanding Debt and Number of Credit Card Inquiries based on SSN Validity and categorized by Credit Score. The chart provides a clear and intuitive visualization of the relationships among these variables. The grouping by SSN Validity and credit score allows us to identify patterns and contrasts efficiently."
      ],
      "metadata": {
        "id": "nVQLPTa7cHlG"
      }
    },
    {
      "cell_type": "markdown",
      "source": [
        "###2. What is/are the insight(s) found from the chart?"
      ],
      "metadata": {
        "id": "SWJb-x05ZxM2"
      }
    },
    {
      "cell_type": "markdown",
      "source": [
        "\n",
        "\n",
        "*   Customers with Invalid SSNs have lower outstanding debt overall compared to those with Valid SSNs.Individuals with a Poor Credit Score consistently show the highest outstanding debt, regardless of SSN validity, suggesting a strong correlation between poor credit management and debt accumulation.\n",
        "*   Customers with Invalid SSNs also have fewer credit card inquiries overall.Similar to the debt trend, customers with a Poor Credit Score exhibit the highest number of credit inquiries for both valid and invalid SSNs. This indicates potential credit-seeking behavior or financial distress.\n",
        "\n"
      ],
      "metadata": {
        "id": "rAx0J4MRcJL3"
      }
    },
    {
      "cell_type": "markdown",
      "source": [
        "###3. Will the gained insights help creating a positive business impact?\n",
        "Are there any insights that lead to negative growth? Justify with specific reason."
      ],
      "metadata": {
        "id": "PvQPHPnTZxHD"
      }
    },
    {
      "cell_type": "markdown",
      "source": [
        "\n",
        "\n",
        "*  The clear distinction in behavior between customers with valid and invalid SSNs can help identify fraudulent accounts or customers attempting to manipulate the system.Customers with Poor Credit Scores and high debt levels or frequent inquiries can be flagged as high-risk, enabling the company to improve its lending policies and risk mitigation strategies.The trend of higher inquiries and debt among poor credit score groups provides an opportunity to design financial counseling or repayment assistance programs, enhancing customer trust and retention.\n",
        "*   Over-reliance on SSN validity might lead to false negatives, where legitimate customers with invalid SSNs (e.g., due to administrative errors) are excluded or treated unfairly.Customers with Poor Credit Scores and high inquiries may face stricter loan approvals, potentially driving them to competitors if alternative support mechanisms are not provided.\n",
        "*   By leveraging these insights to balance risk management with customer support, the business can enhance both security and customer experience. However, failure to account for nuances (e.g., administrative errors in SSN validation) may lead to customer dissatisfaction and loss of market share.\n",
        "\n",
        "\n",
        "\n"
      ],
      "metadata": {
        "id": "3b_UgSUVcWEj"
      }
    },
    {
      "cell_type": "markdown",
      "metadata": {
        "id": "Ioffcd60k2CQ"
      },
      "source": [
        "## Chart 6: Age Category vs Loan Profile Validity (Bivariate with Categorical-Categorical)"
      ]
    },
    {
      "cell_type": "code",
      "execution_count": null,
      "metadata": {
        "id": "HXYTcNiak3RL"
      },
      "outputs": [],
      "source": [
        "# creating a bar chart to show age category and loan profile validity\n",
        "plt.figure(figsize=(15,6))\n",
        "sns.barplot(data=customer_df.loc[:,['Age_Category','Loan_Profile_Validity']].value_counts().reset_index(),x='Age_Category',y='count',hue='Loan_Profile_Validity')\n",
        "plt.xlabel('Age Category')\n",
        "plt.ylabel('Frequency of Customers')\n",
        "plt.title('Age Category vs. Loan_Profile_Validity')\n",
        "plt.legend(title='Loan_Profile_Validity', loc='upper left', bbox_to_anchor=(1, 1), fontsize=12, borderpad=2)\n",
        "\n",
        "plt.show()"
      ]
    },
    {
      "cell_type": "markdown",
      "source": [
        "###1. Why did you pick the specific chart?"
      ],
      "metadata": {
        "id": "qbqj-28kczTe"
      }
    },
    {
      "cell_type": "markdown",
      "source": [
        "This grouped bar chart was selected because it provides a comparative view of Loan Profile Validity across different Age Categories, highlighting the presence of valid profiles versus those marked invalid due to student loans. This visualization is effective for identifying patterns in loan validity distribution across age groups and pinpointing potential target audiences or risk segments."
      ],
      "metadata": {
        "id": "_KO2aL1sdUjD"
      }
    },
    {
      "cell_type": "markdown",
      "source": [
        "###2. What is/are the insight(s) found from the chart?"
      ],
      "metadata": {
        "id": "LPhnstvZczFN"
      }
    },
    {
      "cell_type": "markdown",
      "source": [
        "\n",
        "\n",
        "*   The majority of loan profiles are valid across all age categories, with Valid Loan Profiles outnumbering invalid ones.Young Adults (25–33) and Middle-Aged Adults (34–42) show the highest frequency of valid profiles, likely reflecting their peak earning and borrowing capacity.Young People (14–24) have a relatively high proportion of Invalid Profiles due to student loans compared to other age groups. This reflects their financial dependency on education loans, limiting their eligibility for other financial products.Among Older Adults (43–56), the frequency of invalid profiles is notably lower, indicating reduced reliance on student loans in this demographic.\n",
        "\n",
        "\n"
      ],
      "metadata": {
        "id": "7t7ok55Idb2b"
      }
    },
    {
      "cell_type": "markdown",
      "source": [
        "###3. Will the gained insights help creating a positive business impact?\n",
        "Are there any insights that lead to negative growth? Justify with specific reason."
      ],
      "metadata": {
        "id": "md5HFO3Icy4X"
      }
    },
    {
      "cell_type": "markdown",
      "source": [
        "\n",
        "\n",
        "*   Tailored financial products like student loan refinancing or education-specific credit options can be designed for Young People (14–24), addressing their unique needs and building long-term customer relationships.Focusing on Middle-Aged Adults (34–42) for premium loan products or investment schemes aligns with their lower invalidity rates and stable financial profiles.By identifying invalid profiles associated with student loans, the business can streamline risk assessment procedures and prioritize valid profiles for quicker approvals.\n",
        "*   Overemphasis on rejecting Young People (14–24) due to their invalid profiles could alienate a significant customer base that may mature into valuable clients.If the company overlooks the financial needs of Young Adults (25–33) with valid profiles, competitors may attract this demographic, leading to lost opportunities.\n",
        "*    The insights provide a clear roadmap for product development and risk management. However, any exclusionary practices targeting younger demographics (e.g., rejecting student loan holders outright) must be balanced with supportive initiatives, such as flexible repayment options or financial education programs, to prevent long-term negative impacts on growth.\n",
        "\n",
        "\n",
        "\n",
        "\n"
      ],
      "metadata": {
        "id": "980JEP-pdmdG"
      }
    },
    {
      "cell_type": "markdown",
      "metadata": {
        "id": "Z6P1Uss0lerr"
      },
      "source": [
        "## Chart 7: Age Category vs Outstanding Debt (Bivariate with Categorical-Continuous)"
      ]
    },
    {
      "cell_type": "code",
      "execution_count": null,
      "metadata": {
        "id": "Drwffg3FlfiS"
      },
      "outputs": [],
      "source": [
        "# creating a box plot to show age category and outstanding debt of the customer\n",
        "\n",
        "plt.figure(figsize=(12,6))\n",
        "sns.boxplot(x='Outstanding_Debt', y='Age_Category', data=customer_df)\n",
        "plt.title('Age vs Outstanding Debt')\n",
        "plt.xlabel('Outstanding Debt of the Customer')\n",
        "plt.ylabel('Age Category')\n",
        "\n",
        "# Show plot\n",
        "plt.show()\n"
      ]
    },
    {
      "cell_type": "markdown",
      "source": [
        "###1. Why did you pick the specific chart?"
      ],
      "metadata": {
        "id": "Vf2zNA-ld63n"
      }
    },
    {
      "cell_type": "markdown",
      "source": [
        "This box plot was chosen because it effectively shows the distribution of outstanding debt across different age categories. It highlights variations, central tendencies, and outliers, making it easier to compare debt levels between age groups."
      ],
      "metadata": {
        "id": "w4-6DqqdfwDe"
      }
    },
    {
      "cell_type": "markdown",
      "source": [
        "###2. What is/are the insight(s) found from the chart?"
      ],
      "metadata": {
        "id": "8NIvyU3wd6qs"
      }
    },
    {
      "cell_type": "markdown",
      "source": [
        "\n",
        "\n",
        "*   Older adults (43–56) have a higher median outstanding debt compared to other age groups.Younger people (14–24) have the lowest median debt.Older adults have the widest range of debt, indicating significant variability.Younger people and young adults (25–33) have relatively lower variability in debt.All age groups show outliers with higher debt values, especially prominent in middle-aged and older adults.\n",
        "\n"
      ],
      "metadata": {
        "id": "-iuBKlWKfxdn"
      }
    },
    {
      "cell_type": "markdown",
      "source": [
        "###3. Will the gained insights help creating a positive business impact?\n",
        "Are there any insights that lead to negative growth? Justify with specific reason."
      ],
      "metadata": {
        "id": "WWxo2iLud6gj"
      }
    },
    {
      "cell_type": "markdown",
      "source": [
        "\n",
        "\n",
        "*   Older adults could benefit from tailored debt management solutions as they tend to have higher outstanding debts.Younger people may require educational initiatives or smaller loan offerings to build creditworthiness.Financial products can be designed to suit the age group’s debt profiles. For instance, flexible repayment terms for older adults or small, low-interest loans for younger people.\n",
        "*   The presence of frequent outliers in debt could indicate potential risks of default, especially among older or middle-aged customers.If not addressed, this could lead to financial losses for the organization.\n",
        "*   Understanding debt patterns ensures the institution can balance profitability with risk mitigation. For example, aggressive loan offerings to older adults without analyzing repayment capacity might result in negative outcomes.\n",
        "\n",
        "\n",
        "\n",
        "\n"
      ],
      "metadata": {
        "id": "FaFvnWtpf_5k"
      }
    },
    {
      "cell_type": "markdown",
      "metadata": {
        "id": "SSghmVdplzCs"
      },
      "source": [
        "## Chart 8: Age Category vs Number of Loans Taken (Bivariate with Categorical-Continuous)"
      ]
    },
    {
      "cell_type": "code",
      "execution_count": null,
      "metadata": {
        "id": "HJNBa1h0lz84"
      },
      "outputs": [],
      "source": [
        "# creating a bar chart to show age category and number of loans taken\n",
        "\n",
        "plt.figure(figsize=(18,6))\n",
        "sns.barplot(x='Age_Category', y='Num_of_Loan', data=customer_df,hue='Credit_Mix')\n",
        "plt.title('Age category vs Number of Loans Taken')\n",
        "plt.xlabel('Age Category')\n",
        "plt.ylabel('Number of Loans Taken by Customer')\n",
        "plt.legend(loc='upper left',bbox_to_anchor=(1, 1), fontsize=12, borderpad=2,title='Credit Mix')\n",
        "plt.show()\n"
      ]
    },
    {
      "cell_type": "markdown",
      "source": [
        "###1. Why did you pick the specific chart?"
      ],
      "metadata": {
        "id": "8nfxROsrhhNL"
      }
    },
    {
      "cell_type": "markdown",
      "source": [
        "The bar chart was selected because, it clearly visualizes the relationship between age categories and credit mix categories in terms of the number of loans taken, making it easier to spot trends and anomalies.It is effective for comparing categories, especially when the focus is on distinct age and credit mix groupings.The stacked representation with colors differentiates the credit mix types, providing a holistic view of each age category’s behavior."
      ],
      "metadata": {
        "id": "SQmDUu5SiBrT"
      }
    },
    {
      "cell_type": "markdown",
      "source": [
        "###2. What is/are the insight(s) found from the chart?"
      ],
      "metadata": {
        "id": "pX65sYFvhhFi"
      }
    },
    {
      "cell_type": "markdown",
      "source": [
        "\n",
        "\n",
        "*  Across all age categories, loans with a bad credit mix are disproportionately high compared to standard or good credit mixes.Younger groups (14–24 and 25–33) have a noticeable preference for bad credit mix loans. This may indicate poor financial planning or potential risky behavior, making these groups prone to defaults.The older age group (43–56) shows a better balance, with an increased share of loans in the standard credit mix, although bad credit mix still dominates.This group has relatively lower loan counts across all categories, showing fewer risky loans compared to younger groups.\n",
        "*   List item\n",
        "\n"
      ],
      "metadata": {
        "id": "_0DQ9Kb0iNci"
      }
    },
    {
      "cell_type": "markdown",
      "source": [
        "###3. Will the gained insights help creating a positive business impact?\n",
        "Are there any insights that lead to negative growth? Justify with specific reason."
      ],
      "metadata": {
        "id": "nTgzDvbNhg9B"
      }
    },
    {
      "cell_type": "markdown",
      "source": [
        "\n",
        "\n",
        "*   Insights can help financial institutions design targeted interventions, such as offering younger groups education on maintaining a good credit mix or incentivizing them with products like secured loans to improve their mix.Older adults can be targeted with advisory services to convert bad credit mix loans into more stable products.The disproportionate number of bad credit mix loans among young individuals may also signal potential fraudulent activities or high-risk borrowers. Strict verification processes can mitigate such risks.Banks can segment customers by age and loan behavior to develop specialized credit packages that align with the needs of each group.\n",
        "*  A persistent reliance on bad credit mix loans across all age groups might indicate underlying systemic issues in the lending process or poor financial literacy among borrowers.This could lead to increased loan defaults, which would negatively affect profitability.Younger groups showing poor credit behavior could result in a higher loan write-off rate. If not addressed, this could reduce trust in this customer segment and lead to cautious lending practices, ultimately impacting growth in the youth loan market.\n",
        "*   The insights reveal actionable areas to improve financial health and reduce risk. However, failing to address the high bad credit mix could result in rising defaults and reduced profitability. By leveraging these insights, businesses can proactively manage risks and design solutions to drive sustainable growth\n",
        "\n",
        "\n",
        "\n",
        "\n",
        "\n"
      ],
      "metadata": {
        "id": "UyuGCA3PiY6l"
      }
    },
    {
      "cell_type": "markdown",
      "metadata": {
        "id": "HxT9K_CumgO0"
      },
      "source": [
        "## Chart 9: Occupation vs Loan Profile Validity (Bivariate with Categorical-Categorical)"
      ]
    },
    {
      "cell_type": "code",
      "execution_count": null,
      "metadata": {
        "id": "kFCuGim-mhY6"
      },
      "outputs": [],
      "source": [
        "# creating a bar chart to show occupation and  loan profile validity\n",
        "\n",
        "plt.figure(figsize=(12, 6))\n",
        "\n",
        "sns.barplot(data=customer_df.loc[:,['Occupation','Loan_Profile_Validity']].value_counts().reset_index(),\n",
        "            x='count',y='Occupation',hue='Loan_Profile_Validity')\n",
        "plt.xlabel('Frequency of Customers')\n",
        "plt.ylabel('Occupation of the Customer')\n",
        "plt.title('Occupation vs Loan Profile Validity')\n",
        "plt.legend(title='Loan Profile Validity', loc='upper left', bbox_to_anchor=(1, 1))\n",
        "\n",
        "plt.show()\n"
      ]
    },
    {
      "cell_type": "markdown",
      "source": [
        "###1. Why did you pick the specific chart?"
      ],
      "metadata": {
        "id": "2z6RG8x4jJ27"
      }
    },
    {
      "cell_type": "markdown",
      "source": [
        "The horizontal stacked bar chart was chosen because, it effectively visualizes the distribution of loan profile validity across different occupations.The stacked representation differentiates between valid and invalid profiles, offering a comparative view.Occupations are listed on the y-axis for better readability, especially when dealing with many categories.The horizontal layout ensures that longer labels (e.g., occupation names) do not overlap, maintaining clarity.\n",
        "\n",
        "\n",
        "\n"
      ],
      "metadata": {
        "id": "SCD5-zTQjUZq"
      }
    },
    {
      "cell_type": "markdown",
      "source": [
        "###2. What is/are the insight(s) found from the chart?"
      ],
      "metadata": {
        "id": "CNyKYAqMjJxL"
      }
    },
    {
      "cell_type": "markdown",
      "source": [
        "\n",
        "\n",
        "*   A significant portion of customers across all occupations has invalid profiles due to student loans being present.Professions like writers, musicians, and journalists have a higher ratio of invalid profiles compared to others.Conversely, occupations like engineers, lawyers, and doctors show a relatively higher count of valid loan profiles.The presence of student loans affects customers across both creative and technical professions, highlighting its pervasive impact.\n",
        "\n",
        "\n",
        "\n",
        "\n",
        "\n"
      ],
      "metadata": {
        "id": "Y5th2WU1jgMp"
      }
    },
    {
      "cell_type": "markdown",
      "source": [
        "###3. Will the gained insights help creating a positive business impact?\n",
        "Are there any insights that lead to negative growth? Justify with specific reason."
      ],
      "metadata": {
        "id": "3G8I3OA-jJpz"
      }
    },
    {
      "cell_type": "markdown",
      "source": [
        "\n",
        "\n",
        "*   The data allows financial institutions to identify occupations where student loans are disproportionately high (e.g., writers, musicians). Tailored loan products, like student loan consolidation or refinancing, can be introduced for these segments.Insights help assess risk by occupation. For example, targeting professionals like doctors, lawyers, or engineers with additional financial products may lead to better returns due to their higher proportion of valid profiles.Occupation-specific campaigns can encourage repayment planning and proper loan structuring, particularly for groups with a higher percentage of invalid profiles.\n",
        "*   A large portion of customers having invalid profiles indicates challenges in compliance or eligibility, possibly leading to defaults or poor repayment rates.This trend, if unchecked, can reduce lender profitability and discourage investment in these occupations.High dependency on student loans across professions reflects broader financial stress, which may limit customers' ability to take additional loans, affecting cross-selling opportunities.\n",
        "*  The chart highlights actionable insights for creating specialized loan products and risk assessment frameworks. While it presents opportunities to address pain points, failing to act on these insights (e.g., tackling the high invalid profile ratio) could result in financial losses and reduced customer trust.\n",
        "\n",
        "\n",
        "\n",
        "\n",
        "\n",
        "\n",
        "\n",
        "\n",
        "\n",
        "\n",
        "\n"
      ],
      "metadata": {
        "id": "CmRUJ510kQrX"
      }
    },
    {
      "cell_type": "markdown",
      "metadata": {
        "id": "rypC_qzongum"
      },
      "source": [
        "## Chart 10: Annual Income vs Credit Score (Bivariate with Categorical-Continuous)"
      ]
    },
    {
      "cell_type": "code",
      "execution_count": null,
      "metadata": {
        "id": "a8R--w08niIh"
      },
      "outputs": [],
      "source": [
        "# creating a box plot to show relation between annual income and monthly inhand salary\n",
        "sns.boxplot(x='Credit_Score_Category',y='Annual_Income',data=customer_df)\n",
        "plt.title('Annual Income vs Credit Score ')\n",
        "plt.xlabel('Credit Score of Customer')\n",
        "plt.ylabel('Annual Income of Customer')\n",
        "plt.show()"
      ]
    },
    {
      "cell_type": "markdown",
      "source": [
        "###1. Why did you pick the specific chart?"
      ],
      "metadata": {
        "id": "BFEnAsaHmHD2"
      }
    },
    {
      "cell_type": "markdown",
      "source": [
        "The box plot was chosen to visualize the relationship between annual income and credit scores because it effectively displays the spread, median, and presence of outliers in the income distribution for different credit score categories (\"Good,\" \"Standard,\" and \"Poor\"). This allows for easy comparison of income levels across groups and highlights variations and trends."
      ],
      "metadata": {
        "id": "3aQ5-T2TmTyS"
      }
    },
    {
      "cell_type": "markdown",
      "source": [
        "###2. What is/are the insight(s) found from the chart?"
      ],
      "metadata": {
        "id": "oQUIv1XImG5J"
      }
    },
    {
      "cell_type": "markdown",
      "source": [
        "\n",
        "\n",
        "*  Customers with \"Good\" credit scores tend to have higher annual incomes, with a wider range and higher median compared to the \"Standard\" and \"Poor\" credit score categories.Customers in the \"Standard\" credit score category show a slightly lower median income and a tighter range than those in the \"Good\" category.Customers with \"Poor\" credit scores have the lowest median income, with more outliers on the higher end of the income spectrum.These insights suggest a positive correlation between annual income and credit score quality, implying that higher incomes might be associated with better financial health and creditworthiness.\n",
        "\n",
        "\n",
        "\n",
        "\n",
        "\n",
        "\n"
      ],
      "metadata": {
        "id": "tmsHNZ2NmWy_"
      }
    },
    {
      "cell_type": "markdown",
      "source": [
        "###3. Will the gained insights help creating a positive business impact?\n",
        "Are there any insights that lead to negative growth? Justify with specific reason."
      ],
      "metadata": {
        "id": "agPSV_-QmGxp"
      }
    },
    {
      "cell_type": "markdown",
      "source": [
        "\n",
        "\n",
        "*   The insights can help businesses like Paisa Bazaar tailor financial products (e.g., loans or credit cards) for customers based on their credit scores and income brackets. For instance, premium financial products could be targeted toward customers with \"Good\" credit scores and higher incomes.Identifying that \"Poor\" credit score customers typically have lower incomes can guide risk management teams to design products with stricter risk mitigation strategies for this segment.\n",
        "*   Overemphasis on higher-income, good credit score customers might alienate the \"Poor\" credit score group, reducing market inclusivity and overall business growth potential.The presence of high-income outliers in the \"Poor\" credit category suggests there could be valuable customers who are being overlooked due to traditional credit score reliance.\n",
        "*   By balancing inclusive financial offerings while managing risk, businesses can maximize customer reach and maintain sustainable growth. These insights provide a foundation to create tailored strategies that minimize potential negative impacts.\n",
        "\n"
      ],
      "metadata": {
        "id": "BHtUbyJvmgIF"
      }
    },
    {
      "cell_type": "markdown",
      "metadata": {
        "id": "la4Hy7I7oSBQ"
      },
      "source": [
        "## Chart 11: Monthly Salary vs Number of Loans Taken (Bivariate with Categorical-Continuous )"
      ]
    },
    {
      "cell_type": "code",
      "execution_count": null,
      "metadata": {
        "id": "S9tHua3poP5x"
      },
      "outputs": [],
      "source": [
        "# bar chart showing monthly salary relation with number of loans customer having\n",
        "\n",
        "plt.figure(figsize=(12,6))\n",
        "\n",
        "sns.barplot(x='Num_of_Loan', y='Monthly_Inhand_Salary', data=customer_df, estimator = 'mean',hue='Credit_Mix')\n",
        "plt.xlabel('Number of Loans Customer Having')\n",
        "plt.ylabel('Monthly Inhand Salary of the Customer')\n",
        "plt.title('Monthly Salary vs Number of Loans')\n",
        "\n",
        "plt.show()\n",
        "\n"
      ]
    },
    {
      "cell_type": "markdown",
      "source": [
        "###1. Why did you pick the specific chart?"
      ],
      "metadata": {
        "id": "EkVdXN2voM8Y"
      }
    },
    {
      "cell_type": "markdown",
      "source": [
        "The bar chart was chosen because it clearly illustrates the relationship between monthly salary and the number of loans a customer has, with a focus on different credit mix categories. This is important for understanding how customers' financial behavior (in terms of loans and salary) is affected by their credit mix (Standard, Good, or Bad). The use of different colors (for credit mix) in the hue helps segment the data and compare how monthly salary changes with the number of loans across different types of credit mix."
      ],
      "metadata": {
        "id": "g-Fp4JQhpnhG"
      }
    },
    {
      "cell_type": "markdown",
      "source": [
        "###2. What is/are the insight(s) found from the chart?"
      ],
      "metadata": {
        "id": "3wGxQJ2IoMwL"
      }
    },
    {
      "cell_type": "markdown",
      "source": [
        "\n",
        "\n",
        "*   Standard Credit Mix (blue) consistently shows a higher monthly salary across all loan counts, with salary remaining stable or slightly decreasing as the number of loans increases.\n",
        "*   Good Credit Mix (orange) also shows high monthly salaries, with the highest salary at 2 loans, then a slight decrease as the number of loans increases, suggesting a potential balancing between salary and loan capacity.\n",
        "*   Bad Credit Mix (green) shows the lowest monthly salaries, with significant drops in salary as the number of loans increases. This could indicate that customers with poor credit mixes are taking more loans despite having lower incomes, which could lead to financial stress or indicate riskier borrowing behavior.\n",
        "*   Customers with more loans (5 or more) tend to have relatively lower monthly salaries across all credit mix types, suggesting potential financial strain as loan numbers increase.\n",
        "\n",
        "\n",
        "\n"
      ],
      "metadata": {
        "id": "k5HKnoIkppF8"
      }
    },
    {
      "cell_type": "markdown",
      "source": [
        "###3. Will the gained insights help creating a positive business impact?\n",
        "Are there any insights that lead to negative growth? Justify with specific reason."
      ],
      "metadata": {
        "id": "rUzO4FVLoMmC"
      }
    },
    {
      "cell_type": "markdown",
      "source": [
        "\n",
        "\n",
        "*   Customers with a Bad Credit Mix and multiple loans but low monthly salary should be flagged for closer scrutiny to prevent over-leveraging and financial stress.A strategy could be to offer lower-risk products to customers with a good or standard credit mix, while providing more regulated loans or financial counseling to customers with poor credit mixes.By understanding that customers with good credit mixes tend to manage their finances more effectively, businesses can target them with higher-value loans or premium financial products.Businesses can use this data to adjust interest rates, loan limits, or repayment plans based on credit mix and salary patterns, enhancing overall portfolio health.\n",
        "*   Customers with a Bad Credit Mix and multiple loans are at higher risk of default or fraud, especially when loans outweigh their salaries. Over-focusing on Good or Standard Credit Mix customers may exclude legitimate borrowers facing temporary challenges, limiting market reach. While stricter credit policies are crucial to managing risk, they must balance inclusion to avoid alienating lower-salary or high-loan customers. These insights enable precise loan offerings but require careful management to mitigate risks and ensure sustainable growth.\n",
        "\n"
      ],
      "metadata": {
        "id": "B1R9luDqqY9p"
      }
    },
    {
      "cell_type": "markdown",
      "metadata": {
        "id": "NKjUnZv-qlKk"
      },
      "source": [
        "## Chart 12: Salary Discrepancy Category vs Outstanding Debt (Bivariate with Categorical-Continuous)"
      ]
    },
    {
      "cell_type": "code",
      "execution_count": null,
      "metadata": {
        "id": "1ZsKHml63tRy"
      },
      "outputs": [],
      "source": [
        "# bar chart showing salary discrepancy and outstanding debt of the customer\n",
        "plt.figure(figsize=(15,6))\n",
        "sns.barplot(x='Outstanding_Debt', y='Monthly_Salary_Discrepancy_Category', data=customer_df, estimator = 'mean',hue='Credit_Score_Category')\n",
        "plt.title('Monthly Salary Discrepancy vs Outstanding Debt')\n",
        "plt.xlabel('Outstanding Debt of the Customer')\n",
        "plt.ylabel('Monthly Salary Discrepancy Category')\n",
        "plt.show()"
      ]
    },
    {
      "cell_type": "markdown",
      "source": [
        "###1. Why did you pick the specific chart?"
      ],
      "metadata": {
        "id": "eSl1PyxwrklH"
      }
    },
    {
      "cell_type": "markdown",
      "source": [
        "The horizontal grouped bar chart was chosen to effectively compare the relationship between Monthly Salary Discrepancy Categories and Outstanding Debt, segmented by Credit Score Categories (Good, Standard, Poor). This format highlights patterns and disparities across multiple variables, making it easier to identify trends in outstanding debt levels relative to salary discrepancies and creditworthiness."
      ],
      "metadata": {
        "id": "FrmK0RlUsBRB"
      }
    },
    {
      "cell_type": "markdown",
      "source": [
        "###2. What is/are the insight(s) found from the chart?"
      ],
      "metadata": {
        "id": "5llsOFBBrkXU"
      }
    },
    {
      "cell_type": "markdown",
      "source": [
        "\n",
        "\n",
        "*   Customers with a Poor Credit Score generally have higher outstanding debt across all salary discrepancy categories.Those with Good Credit Scores have the lowest outstanding debt, even in higher salary discrepancy categories.\n",
        "*   Severe and High Discrepancies, 'Poor' credit score customers exhibit the largest outstanding debts, indicating financial strain or mismanagement.No or Minimal Discrepancies, customers across all credit score categories show significantly lower debt levels, suggesting better alignment of income and expenses.\n",
        "*  Poor credit score customers accumulate more debt even when their income is misaligned, while customers with good credit scores manage their debts effectively regardless of discrepancies.\n",
        "\n",
        "\n",
        "\n",
        "\n",
        "\n",
        "\n",
        "\n"
      ],
      "metadata": {
        "id": "7BFQ17A5sEwF"
      }
    },
    {
      "cell_type": "markdown",
      "source": [
        "###3. Will the gained insights help creating a positive business impact?\n",
        "Are there any insights that lead to negative growth? Justify with specific reason."
      ],
      "metadata": {
        "id": "jKQlWhtrrkJi"
      }
    },
    {
      "cell_type": "markdown",
      "source": [
        "\n",
        "\n",
        "*   The chart enables targeted identification of high-risk customers (e.g., Poor Credit Scores with Severe Salary Discrepancy). By flagging these cases, businesses can implement stricter lending criteria or offer financial assistance programs to mitigate default risks.Insights can guide the development of products tailored to customers with Minimal or No Discrepancy, encouraging stable borrowers to access premium loan products.\n",
        "*   Overly conservative lending policies for customers with Poor Credit Scores and high discrepancies could alienate potential borrowers who might recover financially.Focusing on safer customer segments (e.g., good credit scores with minimal discrepancies) may limit the company's market share, especially in underserved or emerging segments.\n",
        "*   The insights enable precise risk profiling and resource allocation, improving business efficiency. However, balancing risk aversion with customer inclusivity is essential to prevent alienating struggling yet recoverable borrowers.\n",
        "\n",
        "\n",
        "\n",
        "\n",
        "\n",
        "\n",
        "\n",
        "\n",
        "\n",
        "\n"
      ],
      "metadata": {
        "id": "1gD2PBtesobX"
      }
    },
    {
      "cell_type": "markdown",
      "metadata": {
        "id": "EmPNG-vW358r"
      },
      "source": [
        "## Chart 13: Number of Bank Account  vs Outstanding Debt (Bivariate with Categorical-Continuous)"
      ]
    },
    {
      "cell_type": "code",
      "execution_count": null,
      "metadata": {
        "id": "fN9jFyTeFrY3"
      },
      "outputs": [],
      "source": [
        "# creating a bar chart to show number of bank accounts customer have and the outstanding debt of the Customer\n",
        "plt.figure(figsize=(15,6))\n",
        "sns.barplot(data=customer_df,x='Num_Bank_Accounts',y='Outstanding_Debt',hue='high_risk_loan_flag_14_24')\n",
        "plt.xlabel('Number of Bank Accounts Customers Having')\n",
        "plt.ylabel('Outstanding Debt of the Customer')\n",
        "plt.title('Number of Bank A/C vs. Outstanding Debt')\n",
        "plt.legend(loc='upper left',bbox_to_anchor=(1, 1), fontsize=12, borderpad=2,title='Loan Risk Category')\n",
        "\n",
        "\n",
        "plt.show()"
      ]
    },
    {
      "cell_type": "markdown",
      "source": [
        "###1. Why did you pick the specific chart?"
      ],
      "metadata": {
        "id": "8LF7wCqi2xJx"
      }
    },
    {
      "cell_type": "markdown",
      "source": [
        "This bar chart was chosen because it effectively visualizes the relationship between the number of bank accounts customers have and their outstanding debt, segmented by loan risk category (low-risk vs. high-risk loans). The dual bars for each account number clearly distinguish patterns for high-risk and low-risk loans, making it easier to spot trends and differences."
      ],
      "metadata": {
        "id": "MVedMAcq29_5"
      }
    },
    {
      "cell_type": "markdown",
      "source": [
        "###2. What is/are the insight(s) found from the chart?"
      ],
      "metadata": {
        "id": "ACGgj-VG2xD7"
      }
    },
    {
      "cell_type": "markdown",
      "source": [
        "\n",
        "\n",
        "*   Customers with more than six bank accounts tend to have higher outstanding debt, especially in the high-risk loan category (red flag loans).For customers with six or fewer accounts, outstanding debt remains relatively consistent and lower across both risk categories.The gap between high-risk loans and low-risk loans widens significantly as the number of accounts increases, indicating that customers with more accounts are likelier to default or take on higher-risk loans.\n",
        "\n",
        "\n",
        "\n"
      ],
      "metadata": {
        "id": "Hvg7VkHw3CQy"
      }
    },
    {
      "cell_type": "markdown",
      "source": [
        "###3. Will the gained insights help creating a positive business impact?\n",
        "Are there any insights that lead to negative growth? Justify with specific reason."
      ],
      "metadata": {
        "id": "75iUD3sI2w9r"
      }
    },
    {
      "cell_type": "markdown",
      "source": [
        "\n",
        "\n",
        "*  The insights can help in risk assessment models. For example, focus on customers with more than six bank accounts as they show a higher probability of being flagged for high-risk loans and design personalized repayment plans or introduce monitoring mechanisms for this segment to reduce defaults.\n",
        "*   If these trends are not addressed, customers with higher outstanding debts and more accounts may lead to higher default rates, which could negatively impact the business.Blanket restrictions on providing loans to customers with multiple accounts may alienate potential low-risk customers, causing a loss of profitable business opportunities.\n",
        "*   The insights justify targeted strategies to manage high-risk customers while still supporting low-risk ones. This dual approach ensures that the business minimizes risk without losing out on potential revenue opportunities.\n",
        "\n",
        "\n",
        "\n",
        "\n",
        "\n"
      ],
      "metadata": {
        "id": "yKX8f2KF3YcF"
      }
    },
    {
      "cell_type": "markdown",
      "metadata": {
        "id": "vF6H37RX1fCQ"
      },
      "source": [
        "## Chart 14: Number of Credit Card vs Credit Score (Bivariate with Categorical-Categorical)"
      ]
    },
    {
      "cell_type": "code",
      "execution_count": null,
      "metadata": {
        "id": "L2Xq_Wk_13QP"
      },
      "outputs": [],
      "source": [
        "# creating a bar chart to show number of credit card and credit score\n",
        "\n",
        "plt.figure(figsize=(15,6))\n",
        "\n",
        "sns.barplot(data=customer_df.loc[:,['Credit_Score_Category','Num_Credit_Card']].value_counts().reset_index(),x='Num_Credit_Card',y='count',hue='Credit_Score_Category')\n",
        "plt.xlabel('Number of Credit Cards Customers Having')\n",
        "plt.ylabel('Frequency of Customers')\n",
        "plt.title('Credit_Score vs. Number_credit_card')\n",
        "plt.show()"
      ]
    },
    {
      "cell_type": "markdown",
      "source": [
        "###1. Why did you pick the specific chart?"
      ],
      "metadata": {
        "id": "7GSkAyeI6jQF"
      }
    },
    {
      "cell_type": "markdown",
      "source": [
        "This chart was selected to explore the relationship between the number of credit cards customers have and their credit score category (Good, Standard, Poor). The grouped bar representation allows for easy comparison of how the frequency of customers in different credit score categories changes as the number of credit cards increases."
      ],
      "metadata": {
        "id": "hHX52IyC678f"
      }
    },
    {
      "cell_type": "markdown",
      "source": [
        "###2. What is/are the insight(s) found from the chart?"
      ],
      "metadata": {
        "id": "rVKfZnOT6jGh"
      }
    },
    {
      "cell_type": "markdown",
      "source": [
        "\n",
        "\n",
        "*   The majority of customers fall under the Standard credit score category across all credit card counts, peaking for 3–6 credit cards.This suggests that having a moderate number of credit cards correlates with maintaining a standard credit score.Customers with good credit scores are significantly fewer compared to other categories, especially as the number of credit cards increases.This could indicate that excessive credit card ownership might make it challenging to maintain a good credit score.Poor credit scores dominate for customers owning 7 or more credit cards, showing a possible trend of financial overextension or mismanagement.\n",
        "\n",
        "\n",
        "\n",
        "\n",
        "\n",
        "\n"
      ],
      "metadata": {
        "id": "ZbGGqmvv7CPQ"
      }
    },
    {
      "cell_type": "markdown",
      "source": [
        "###3. Will the gained insights help creating a positive business impact?\n",
        "Are there any insights that lead to negative growth? Justify with specific reason."
      ],
      "metadata": {
        "id": "GtDz1FtI6i-N"
      }
    },
    {
      "cell_type": "markdown",
      "source": [
        "\n",
        "\n",
        "*   Customers with Standard credit scores and moderate credit card ownership can be targeted for credit improvement plans to help them move into the Good category.Customers with Poor credit scores and high credit card counts can be offered tailored debt consolidation or advisory services to reduce the risk of defaults.These insights can help identify customers at risk (those with Poor credit scores and high credit card counts), enabling banks to implement stricter credit checks or modify lending criteria.\n",
        "*   Focusing too heavily on customers with Poor credit scores for high-risk products (like loans) without proper assessment may increase default risks and lead to financial losses.Alienating customers in the Standard credit score category by offering overly conservative credit terms could hinder growth opportunities.\n",
        "*  The chart supports the development of strategies to improve customer creditworthiness, optimize lending policies, and manage risks effectively, which can create positive business outcomes if implemented thoughtfully.\n",
        "\n",
        "\n",
        "\n",
        "\n"
      ],
      "metadata": {
        "id": "nwI6exGE7VHy"
      }
    },
    {
      "cell_type": "markdown",
      "metadata": {
        "id": "GCoUJOuxr0Lv"
      },
      "source": [
        "## Chart 15: Number of Credit Card vs Outstanding Debt (Bivariate with Categorical-Continuous)"
      ]
    },
    {
      "cell_type": "code",
      "execution_count": null,
      "metadata": {
        "id": "Xd8fJOgvr2Gt"
      },
      "outputs": [],
      "source": [
        "# Box Plot to show number of credit card and outstanding debt\n",
        "plt.figure(figsize=(15,6))\n",
        "sns.barplot(x='Num_Credit_Card', y='Outstanding_Debt', data=customer_df,estimator = 'mean',hue='high_risk_loan_flag_14_24')\n",
        "\n",
        "plt.title('Number of Cr Card vs Outstanding Debt')\n",
        "plt.xlabel('Number of Cr card held by Customer ')\n",
        "plt.ylabel('Outstanding Debt')\n",
        "plt.legend(loc='upper left',bbox_to_anchor=(1, 1), fontsize=12, borderpad=2,title='Loan Risk Category')\n",
        "\n",
        "# Show plot\n",
        "plt.show()"
      ]
    },
    {
      "cell_type": "markdown",
      "source": [
        "###1. Why did you pick the specific chart?"
      ],
      "metadata": {
        "id": "kfX8NNg_8bGp"
      }
    },
    {
      "cell_type": "markdown",
      "source": [
        "This chart effectively compares the outstanding debt based on the number of credit cards held by customers, categorized by loan risk (red flag or no red flag).A grouped bar chart is ideal for visualizing two categorical variables (Loan Risk Category and Number of Cards) against a numerical variable (Outstanding Debt).It shows trends in outstanding debt for both high-risk and low-risk loans across different levels of credit card ownership.\n",
        "\n"
      ],
      "metadata": {
        "id": "ccPcTGrA83vi"
      }
    },
    {
      "cell_type": "markdown",
      "source": [
        "###2. What is/are the insight(s) found from the chart?"
      ],
      "metadata": {
        "id": "26w1kVwe8a-I"
      }
    },
    {
      "cell_type": "markdown",
      "source": [
        "\n",
        "\n",
        "*   Customers with a greater number of credit cards (6–11) tend to have higher outstanding debt levels.As the number of credit cards increases, the outstanding debt associated with high-risk loans (red flag) consistently surpasses that of low-risk loans (no red flag).For customers holding 1–4 credit cards, both high-risk and low-risk loans have relatively lower outstanding debt, indicating better financial management or less exposure to debt.Starting from 5 credit cards, the gap between high-risk and low-risk loan debt becomes pronounced, suggesting that customers with many cards are at greater risk of default.\n",
        "\n",
        "\n",
        "\n",
        "\n"
      ],
      "metadata": {
        "id": "4Bu9QesC886x"
      }
    },
    {
      "cell_type": "markdown",
      "source": [
        "###3. Will the gained insights help creating a positive business impact?\n",
        "Are there any insights that lead to negative growth? Justify with specific reason."
      ],
      "metadata": {
        "id": "meLYgU_X8a1s"
      }
    },
    {
      "cell_type": "markdown",
      "source": [
        "\n",
        "\n",
        "*  Insights can guide financial institutions to implement stricter loan eligibility criteria for customers with many credit cards, reducing exposure to high-risk loans.Customers with 6+ credit cards and low-risk loans can be targeted with financial planning tools to avoid slipping into high-risk categories.Debt restructuring or repayment plans can be offered to customers already in the high-risk category to improve recovery rates.Banks can develop customized credit card limits or loan offers based on outstanding debt trends and credit card usage.\n",
        "*   Excessive focus on mitigating high-risk loans might lead to neglect of low-risk customers, who represent a more stable revenue stream.Overly cautious lending policies for individuals with moderate debt and credit card counts could result in lost opportunities for issuing profitable loans.\n",
        "*  The chart provides actionable insights into customer debt behavior across loan risk categories and credit card usage. Careful application of these insights can help maintain portfolio health while capitalizing on lending opportunities. Balancing risk mitigation and opportunity capture is key to avoiding negative growth.\n",
        "\n",
        "\n",
        "\n"
      ],
      "metadata": {
        "id": "awKp1OfX9Ny9"
      }
    },
    {
      "cell_type": "markdown",
      "metadata": {
        "id": "k8P91csWadCW"
      },
      "source": [
        "## Chart 16:  Number of Loans Taken vs Credit Score (Bivariate with Categorical-Categorical)\n",
        "\n"
      ]
    },
    {
      "cell_type": "code",
      "execution_count": null,
      "metadata": {
        "id": "M-9HcgppswEN"
      },
      "outputs": [],
      "source": [
        "# creating a bar chart showing number of loans taken vs credit score\n",
        "\n",
        "plt.figure(figsize=(15, 6))\n",
        "\n",
        "sns.barplot(data=customer_df.loc[:,['Credit_Score_Category','Num_of_Loan']].value_counts().reset_index(),x='Num_of_Loan',y='count',hue='Credit_Score_Category')\n",
        "plt.xlabel('Number Of Loans Taken By The Customer')\n",
        "plt.ylabel('Frequency of Customers')\n",
        "plt.title('Credit_Score vs. Num_of_Loan')\n",
        "plt.legend(loc='upper left',bbox_to_anchor=(1, 1), fontsize=12, borderpad=2,title='Credit Score')\n",
        "\n",
        "plt.show()\n"
      ]
    },
    {
      "cell_type": "markdown",
      "source": [
        "###1. Why did you pick the specific chart?"
      ],
      "metadata": {
        "id": "rrka-uExvUe2"
      }
    },
    {
      "cell_type": "markdown",
      "source": [
        "This bar chart was chosen to compare the number of loans taken by customers across different credit score categories (Standard, Good, and Poor). It clearly visualizes the frequency distribution of customers for each category, making it easy to observe patterns and relationships between credit score levels and loan-taking behavior."
      ],
      "metadata": {
        "id": "27UqTagnv5uQ"
      }
    },
    {
      "cell_type": "markdown",
      "source": [
        "###2. What is/are the insight(s) found from the chart?"
      ],
      "metadata": {
        "id": "AR0ukkdPvUPc"
      }
    },
    {
      "cell_type": "markdown",
      "source": [
        "\n",
        "\n",
        "*   Customers with a Standard credit score form the majority across all loan categories, particularly for 0 to 4 loans.The proportion of customers with a Good credit score decreases as the number of loans increases, indicating they are more likely to manage fewer loans.Customers with a Poor credit score are more frequent in higher loan categories (6+ loans), suggesting that taking multiple loans might correlate with a higher risk of poor credit scores.\n",
        "\n",
        "\n",
        "\n"
      ],
      "metadata": {
        "id": "uDkBbSDFv-pQ"
      }
    },
    {
      "cell_type": "markdown",
      "source": [
        "###3. Will the gained insights help creating a positive business impact?\n",
        "Are there any insights that lead to negative growth? Justify with specific reason."
      ],
      "metadata": {
        "id": "Bl1TF2zOvUB3"
      }
    },
    {
      "cell_type": "markdown",
      "source": [
        "\n",
        "*   The insights can guide targeted financial strategies. For example, Customers with a Standard credit score represent a stable and low-risk segment for offering additional financial products.Good credit score customers, who tend to take fewer loans, can be approached with exclusive, smaller loan products or incentives to boost engagement.Identifying customers in the Poor credit score group with many loans can help prioritize debt recovery strategies or design customized repayment plans.\n",
        "*   Customers with Poor credit scores and multiple loans represent a higher risk. If not managed effectively, this segment could lead to increased defaults, negatively affecting revenue. Proactive risk assessment and credit monitoring are essential to mitigate this risk.\n",
        "\n",
        "\n",
        "\n",
        "\n"
      ],
      "metadata": {
        "id": "nkpBWuY6wFDz"
      }
    },
    {
      "cell_type": "markdown",
      "metadata": {
        "id": "h1D0OKuZsgtL"
      },
      "source": [
        "## Chart 17: Number of Loans Taken (Bivariate)"
      ]
    },
    {
      "cell_type": "code",
      "execution_count": null,
      "metadata": {
        "id": "l7HiPukqs-dr"
      },
      "outputs": [],
      "source": [
        "# Create subplots\n",
        "fig, axes = plt.subplots(1, 2, figsize=(18, 6))\n",
        "\n",
        "# plot 1: bar chart showing number of loan and number of delayed payments\n",
        "sns.barplot(x='Num_of_Loan', y='Num_of_Delayed_Payment', data=customer_df,estimator='mean',ax=axes[0],hue='Credit_Mix')\n",
        "axes[0].set_title('Number of Loans vs Number of Delayed Payments')\n",
        "axes[0].set_xlabel('Number of Loans Taken by Customer')\n",
        "axes[0].set_ylabel('Number of Delayed Payments by Customer')\n",
        "axes[0].get_legend().set_visible(False)\n",
        "\n",
        "# plot 2: bar chart showing number of loan and number of credit card inquiries\n",
        "sns.barplot(x='Num_of_Loan', y='Num_Credit_Inquiries', data=customer_df,estimator='mean',ax=axes[1],hue='Credit_Mix')\n",
        "axes[1].set_title('Number of Loans vs Number of Cr Card Inquiries')\n",
        "axes[1].set_xlabel('Number of Loans Taken by Customer')\n",
        "axes[1].set_ylabel('Number of Cr Card Inquiries by Customer')\n",
        "\n",
        "plt.legend(loc='upper left',bbox_to_anchor=(1, 1), fontsize=12, borderpad=2,title='Credit Mix')\n",
        "\n",
        "# Adjust layout\n",
        "plt.tight_layout()\n",
        "\n",
        "# Show plot\n",
        "plt.show()\n",
        "\n"
      ]
    },
    {
      "cell_type": "markdown",
      "source": [
        "###1. Why did you pick the specific chart?"
      ],
      "metadata": {
        "id": "5zGcb0XExC-V"
      }
    },
    {
      "cell_type": "markdown",
      "source": [
        "The first chart, \"Number of Loans vs Number of Delayed Payments\", was chosen to understand how the frequency of delayed payments varies with the number of loans across different credit mixes (Standard, Good, and Bad).\n",
        "The second chart, \"Number of Loans vs Number of Credit Card Inquiries\", was selected to explore the relationship between the number of loans and credit card inquiries for customers with varying credit mixes. Both charts help analyze customer behavior patterns based on their credit mix and loan activity.\n"
      ],
      "metadata": {
        "id": "W2dqa18LxPR9"
      }
    },
    {
      "cell_type": "markdown",
      "source": [
        "###2. What is/are the insight(s) found from the chart?"
      ],
      "metadata": {
        "id": "mEiPZDaTxC6W"
      }
    },
    {
      "cell_type": "markdown",
      "source": [
        "\n",
        "\n",
        "*   Customers with a Bad Credit Mix consistently show the highest number of delayed payments across all loan categories, emphasizing higher financial risk.\n",
        "Customers with a Good Credit Mix have significantly fewer delayed payments, indicating better loan repayment discipline.Customers with a Standard Credit Mix show moderate delays but an increasing trend with the number of loans.\n",
        "*   Customers with a Bad Credit Mix have more credit card inquiries, which might indicate financial instability or aggressive loan-seeking behavior.Customers with a Good Credit Mix exhibit the fewest credit card inquiries, implying responsible financial management.A steady increase in credit card inquiries is observed as the number of loans rises, particularly for the Bad Credit Mix category.\n",
        "\n",
        "\n",
        "\n",
        "\n"
      ],
      "metadata": {
        "id": "xc6DsOBGxTSL"
      }
    },
    {
      "cell_type": "markdown",
      "source": [
        "###3. Will the gained insights help creating a positive business impact?\n",
        "Are there any insights that lead to negative growth? Justify with specific reason."
      ],
      "metadata": {
        "id": "5q0IE4bqxC2Q"
      }
    },
    {
      "cell_type": "markdown",
      "source": [
        "\n",
        "\n",
        "*   The insights can help target and segment customers more effectively. For example, customers with a Good Credit Mix can be prioritized for premium financial products and lower interest rates, fostering loyalty and profitability.Customers with a Bad Credit Mix and high delayed payments can be flagged for risk management strategies, including stricter loan approval processes or customized repayment plans to minimize defaults.\n",
        "*   Customers with a Bad Credit Mix showing frequent delayed payments and high credit card inquiries pose a risk of defaults. If not monitored, they could lead to revenue loss.Increased credit card inquiries from this group might reflect credit-seeking desperation, suggesting the need for stricter credit checks and better education on responsible borrowing.\n",
        "\n",
        "\n",
        "\n"
      ],
      "metadata": {
        "id": "jdMBbCS2xlud"
      }
    },
    {
      "cell_type": "markdown",
      "metadata": {
        "id": "wjlkPKpBwPTx"
      },
      "source": [
        "## Chart 18: Loan Risk Category (Bivariate)"
      ]
    },
    {
      "cell_type": "code",
      "execution_count": null,
      "metadata": {
        "id": "cH_XN7c-yz45"
      },
      "outputs": [],
      "source": [
        "# Create subplots\n",
        "fig, axes = plt.subplots(1, 2, figsize=(18, 6))\n",
        "\n",
        "# plot 1: bar chart showing loan risk category and number of delayed payments\n",
        "sns.barplot(x='high_risk_loan_flag_14_24',y='Num_of_Delayed_Payment',data=customer_df,hue='Credit_Score_Category',ax=axes[0])\n",
        "axes[0].set_title('Loan Risk Category vs Number of Delayed Payments')\n",
        "axes[0].set_xlabel('Loan Risk Category')\n",
        "axes[0].set_ylabel('Number of Delayed Payments by Customer')\n",
        "\n",
        "# hiding legend of chart 1 to make visuals clear\n",
        "axes[0].legend().set_visible(False)\n",
        "\n",
        "# plot 2: bar chart showing loan risk category of delayed days from due date\n",
        "sns.barplot(x='high_risk_loan_flag_14_24',y='Delay_from_due_date',data=customer_df,hue='Credit_Score_Category',ax=axes[1])\n",
        "axes[1].set_title('Loan Risk Category vs Delay from Due Date')\n",
        "axes[1].set_xlabel('Loan Risk Category')\n",
        "axes[1].set_ylabel('Average Number of Days Delayed from Due Date')\n",
        "\n",
        "# adjust legend\n",
        "plt.legend(loc='upper left',bbox_to_anchor=(1, 1), fontsize=12, borderpad=2,title='Credit Score')\n",
        "\n",
        "\n",
        "# Adjust layout\n",
        "plt.tight_layout() # Automatically Adjust\n",
        "\n",
        "# Show plot\n",
        "plt.show()\n"
      ]
    },
    {
      "cell_type": "markdown",
      "source": [
        "###1. Why did you pick the specific chart?"
      ],
      "metadata": {
        "id": "XSP_z7nPx-ZU"
      }
    },
    {
      "cell_type": "markdown",
      "source": [
        "The first chart, \"Loan Risk Category vs Number of Delayed Payments\", was chosen to evaluate the relationship between loan risk categories (High-Risk or Low-Risk) and the frequency of delayed payments across customers with varying credit scores (Good, Standard, and Poor).\n",
        "The second chart, \"Loan Risk Category vs Delay from Due Date\", was selected to analyze how the average number of days delayed from the due date differs across loan risk categories and customer credit scores. These insights are critical for understanding risk and repayment behaviors.\n"
      ],
      "metadata": {
        "id": "ynfgEqUgyLVf"
      }
    },
    {
      "cell_type": "markdown",
      "source": [
        "###2. What is/are the insight(s) found from the chart?"
      ],
      "metadata": {
        "id": "g6wPE5zJyB5H"
      }
    },
    {
      "cell_type": "markdown",
      "source": [
        "\n",
        "\n",
        "*   In High-Risk Loans, Customers with a Poor Credit Score have the highest number of delayed payments in this category, indicating a significant risk.Customers with a Standard Credit Score show moderate delays, while those with a Good Credit Score have the least delays.And in Low-Risk Loans, Even in low-risk loans, customers with a Poor Credit Score have more delayed payments compared to others, but overall delays are fewer than in high-risk loans.\n",
        "*   Customers with a Poor Credit Score take the longest time to repay, even for low-risk loans, with an average delay exceeding 30 days for high-risk loans.Customers with a Good Credit Score generally repay on time or with minimal delays, even for high-risk loans, showing better repayment discipline.\n",
        "\n",
        "\n"
      ],
      "metadata": {
        "id": "0CjvxFBdyOay"
      }
    },
    {
      "cell_type": "markdown",
      "source": [
        "###3. Will the gained insights help creating a positive business impact?\n",
        "Are there any insights that lead to negative growth? Justify with specific reason."
      ],
      "metadata": {
        "id": "myU_2deuyCgi"
      }
    },
    {
      "cell_type": "markdown",
      "source": [
        "\n",
        "\n",
        "*   These insights enable the business to implement a risk-based pricing model, offering better loan terms to customers with Good Credit Scores while imposing stricter conditions for those with Poor Credit Scores.By identifying high-risk customers (e.g., Poor Credit Score in high-risk loans), proactive measures such as enhanced monitoring or financial counseling can reduce default rates and operational losses.\n",
        "*  Customers with a Poor Credit Score and frequent delays (especially in high-risk loans) could lead to increased non-performing assets (NPAs) if not managed effectively.Delays exceeding 30 days may necessitate higher provisions for bad loans, impacting profitability.\n",
        "*   A focused approach to improving risk management for high-risk loans while leveraging good credit customers for cross-selling opportunities can create a balance between growth and risk mitigation. However, overlooking repayment behavior in low-risk loans for poor credit customers could lead to a misestimation of risks.\n",
        "\n",
        "\n",
        "\n"
      ],
      "metadata": {
        "id": "VeTYUG1yy1NS"
      }
    },
    {
      "cell_type": "markdown",
      "metadata": {
        "id": "B3mxB8Zq18ab"
      },
      "source": [
        "## Chart 19: Loan Risk Category vs number of Cr Card Inquiries (Bivariate with Categorical-Continuous)"
      ]
    },
    {
      "cell_type": "code",
      "execution_count": null,
      "metadata": {
        "id": "8cv7ToA0Yd_N"
      },
      "outputs": [],
      "source": [
        "# creating a bar chart to show loan risk category and credit card inquiries\n",
        "\n",
        "plt.figure(figsize=(12,6))\n",
        "\n",
        "sns.barplot(x='high_risk_loan_flag_14_24',y='Num_Credit_Inquiries',data=customer_df,hue='Credit_Score_Category')\n",
        "plt.title('Loan Risk Category vs Number of Cr card Inquiries')\n",
        "plt.xlabel('Loan Risk Category')\n",
        "plt.ylabel('Number of Cr card Inquiries by Customer')\n",
        "plt.legend(loc='upper left',bbox_to_anchor=(1, 1), fontsize=12, borderpad=2,title='Credit Score')\n",
        "\n",
        "plt.show()"
      ]
    },
    {
      "cell_type": "markdown",
      "source": [
        "###1. Why did you pick the specific chart?"
      ],
      "metadata": {
        "id": "8qnIqT09zJHR"
      }
    },
    {
      "cell_type": "markdown",
      "source": [
        "The bar chart was chosen because it effectively compares the relationship between loan risk categories (high-risk vs. low-risk loans) and the number of credit card inquiries across different credit score segments (Good, Standard, Poor). This format visually represents variations and trends, making it easier to identify patterns and anomalies across categories."
      ],
      "metadata": {
        "id": "7BO12poAzn1f"
      }
    },
    {
      "cell_type": "markdown",
      "source": [
        "###2. What is/are the insight(s) found from the chart?"
      ],
      "metadata": {
        "id": "6vjT9mT-zI8W"
      }
    },
    {
      "cell_type": "markdown",
      "source": [
        "\n",
        "\n",
        "*   Customers with a poor credit score tend to have significantly higher credit card inquiries, regardless of the loan risk category, compared to those with standard or good credit scores.For high-risk loans (red flag), customers with poor credit scores exhibit the highest average inquiries, followed by those with standard scores, while customers with good scores have the lowest.Similarly, for low-risk loans (no red flag), customers with poor credit scores still dominate in terms of inquiries, but the gap between credit score categories is narrower compared to high-risk loans.These insights suggest that credit card inquiry patterns are strongly influenced by credit scores and loan risk classifications.\n",
        "\n",
        "\n",
        "\n",
        "\n"
      ],
      "metadata": {
        "id": "eczXLnxezq3L"
      }
    },
    {
      "cell_type": "markdown",
      "source": [
        "###3. Will the gained insights help creating a positive business impact?\n",
        "Are there any insights that lead to negative growth? Justify with specific reason."
      ],
      "metadata": {
        "id": "4TMS4IYszIzf"
      }
    },
    {
      "cell_type": "markdown",
      "source": [
        "\n",
        "\n",
        "*  The insights can be leveraged to strengthen credit risk assessment models. Identifying that high-risk loan customers with poor credit scores have more credit card inquiries could indicate potential financial instability or a high likelihood of default. This information can help businesses fine-tune loan approval criteria and minimize defaults.Customers with good credit scores and low credit card inquiries in the low-risk loan category can be targeted with premium loan products or exclusive offers, maximizing profitability while minimizing risks.\n",
        "*   Stricter approval policies for high-risk loans or customers with poor credit scores may reduce the overall customer base, especially among those with frequent credit card inquiries. However, this could be offset by the reduction in loan defaults, ultimately supporting long-term growth.If poor credit score customers are categorically denied loans, potential future borrowers (who may improve their creditworthiness) could be lost, affecting customer lifetime value.\n",
        "*   By understanding the patterns of credit card inquiries in conjunction with loan risk categories and credit scores, businesses can make data-driven decisions to enhance loan portfolio quality. However, there’s a trade-off between risk mitigation and customer acquisition that must be carefully balanced.\n",
        "\n",
        "\n",
        "\n",
        "\n"
      ],
      "metadata": {
        "id": "Vwv867N5zznD"
      }
    },
    {
      "cell_type": "markdown",
      "metadata": {
        "id": "3zyKceMc6jQr"
      },
      "source": [
        "## Chart 20: Credit Mix vs Outstanding Debt (Bivariate with Categorical-Continuous)"
      ]
    },
    {
      "cell_type": "code",
      "execution_count": null,
      "metadata": {
        "id": "cAE3R9NtqQRm"
      },
      "outputs": [],
      "source": [
        "# creating bar chart to show credit mix and oustanding debt\n",
        "plt.figure(figsize=(12,6))\n",
        "sns.barplot(x='Credit_Mix',y='Outstanding_Debt',data=customer_df,estimator='mean',hue='Credit_Score_Category')\n",
        "plt.xlabel('Credit Mix of The Customer')\n",
        "plt.ylabel('Outstanding Debt')\n",
        "plt.title('Outstanding Debt vs. Credit_Mix')\n",
        "plt.legend(loc='upper left',bbox_to_anchor=(1, 1), fontsize=12, borderpad=2,title='Credit Score')\n",
        "\n",
        "plt.show()"
      ]
    },
    {
      "cell_type": "markdown",
      "source": [
        "###1. Why did you pick the specific chart?"
      ],
      "metadata": {
        "id": "wSeQTskw0Pac"
      }
    },
    {
      "cell_type": "markdown",
      "source": [
        "The bar chart was selected because it clearly demonstrates the relationship between the credit mix of customers (Good, Standard, Bad) and their outstanding debt levels while segmenting by credit scores (Good, Standard, Poor). This visualization is effective in comparing how the credit mix influences outstanding debt levels across different credit score groups."
      ],
      "metadata": {
        "id": "qh2SqIFH0n4O"
      }
    },
    {
      "cell_type": "markdown",
      "source": [
        "###2. What is/are the insight(s) found from the chart?"
      ],
      "metadata": {
        "id": "ktmqVm_Q0PRs"
      }
    },
    {
      "cell_type": "markdown",
      "source": [
        "\n",
        "\n",
        "*   Customers with a bad credit mix have the highest outstanding debt levels, regardless of their credit score.Among customers with a bad credit mix, those with good credit scores have slightly higher outstanding debt compared to those with standard or poor credit scores.Customers with a good credit mix have consistently low outstanding debt levels, irrespective of their credit score category.A standard credit mix results in moderate outstanding debt levels, with those having poor credit scores showing a slightly higher debt than others.\n",
        "These insights reveal a strong correlation between a customer's credit mix and their outstanding debt, suggesting that a bad credit mix is a primary driver of high debt levels.\n",
        "\n",
        "\n",
        "\n"
      ],
      "metadata": {
        "id": "E7OIr63_0q91"
      }
    },
    {
      "cell_type": "markdown",
      "source": [
        "###3. Will the gained insights help creating a positive business impact?\n",
        "Are there any insights that lead to negative growth? Justify with specific reason."
      ],
      "metadata": {
        "id": "7Xye2goD0PJd"
      }
    },
    {
      "cell_type": "markdown",
      "source": [
        "\n",
        "\n",
        "*   The insights highlight the risks associated with customers having a bad credit mix. Lenders can use this information to implement stricter monitoring or loan approval conditions for such customers, regardless of their credit score, minimizing potential defaults.Customers with a good credit mix and low outstanding debt can be targeted with favorable interest rates or loan offers, leading to increased customer satisfaction and retention.\n",
        "*   Over-reliance on excluding customers with a bad credit mix might limit opportunities for growth in customer acquisition. These individuals may still be creditworthy but require customized solutions or credit improvement programs.Customers with a standard credit mix may represent a middle ground that requires nuanced analysis. Overlooking this group may result in lost business opportunities from relatively stable customers.\n",
        "*   Understanding the interplay between credit mix and debt levels provides actionable insights for mitigating credit risks while ensuring that creditworthy customers are not excluded. Careful balancing of risk-based strategies with inclusive credit policies can maximize both profitability and customer growth.\n",
        "\n",
        "\n",
        "\n",
        "\n"
      ],
      "metadata": {
        "id": "i5HEY1O603uE"
      }
    },
    {
      "cell_type": "markdown",
      "metadata": {
        "id": "nnnxjYR47aA1"
      },
      "source": [
        "## Chart 21: Credit Score Vs. Payment Behaviour Of Customer (Bivariate with Categorical-Categorical)"
      ]
    },
    {
      "cell_type": "code",
      "execution_count": null,
      "metadata": {
        "id": "0vueCgNP70p1"
      },
      "outputs": [],
      "source": [
        "# creating a bar chart to show payment behaviour and credit score\n",
        "plt.figure(figsize=(12,6))\n",
        "sns.barplot(data=customer_df.loc[:,['Credit_Score_Category','Payment_Behaviour']].value_counts().reset_index(),x='count',y='Payment_Behaviour',hue='Credit_Score_Category')\n",
        "plt.xlabel('Frequency of Customers')\n",
        "plt.ylabel('Payment Behaviour Of The Customer')\n",
        "plt.title('Credit_Score vs. Payment_behaviour')\n",
        "plt.legend(loc='upper left',bbox_to_anchor=(1, 1),title='Credit Score', fontsize=12, borderpad=2)\n",
        "plt.tight_layout()\n",
        "plt.show()"
      ]
    },
    {
      "cell_type": "markdown",
      "source": [
        "###1. Why did you pick the specific chart?"
      ],
      "metadata": {
        "id": "3hRj87Ng1K95"
      }
    },
    {
      "cell_type": "markdown",
      "source": [
        "This bar chart was selected because it effectively compares the payment behavior of customers (spending and payment value categories) against their credit score categories (Good, Standard, Poor). The chart allows for a clear visualization of how different customer segments behave in terms of their financial spending and payment habits, making it easier to draw insights."
      ],
      "metadata": {
        "id": "VCdXJAeD1gcD"
      }
    },
    {
      "cell_type": "markdown",
      "source": [
        "###2. What is/are the insight(s) found from the chart?"
      ],
      "metadata": {
        "id": "o2T44kaZ1Kz5"
      }
    },
    {
      "cell_type": "markdown",
      "source": [
        "\n",
        "\n",
        "*   Standard Credit Score Customers Dominate: Customers with a standard credit score are the most frequent across all payment behavior categories. They show particularly high frequencies in low-spent, small-value payments, and high-spent, large-value payments.\n",
        "*   Poor Credit Score Customers: These customers show significant frequency in low-spent, small-value payments but taper off in other categories, indicating limited financial engagement or riskier financial behavior.\n",
        "*   Good Credit Score Customers: Customers with good credit scores have lower frequencies overall but are present across all payment behavior categories. This could indicate more stable but limited spending habits compared to those with standard scores.\n",
        "*   High-Spent, Large-Value Payments: This category has a high representation from customers with standard credit scores, highlighting their financial engagement compared to other groups.\n",
        "\n"
      ],
      "metadata": {
        "id": "_3HeCctD1uIE"
      }
    },
    {
      "cell_type": "markdown",
      "source": [
        "###3. Will the gained insights help creating a positive business impact?\n",
        "Are there any insights that lead to negative growth? Justify with specific reason."
      ],
      "metadata": {
        "id": "EUdcHpRA1Kqq"
      }
    },
    {
      "cell_type": "markdown",
      "source": [
        "\n",
        "\n",
        "*   The insights provide a clear view of customer behavior, enabling segmentation based on spending and payment value. For example, high-spent, large-value customers with standard or good credit scores can be targeted for premium loan products or credit cards.Poor credit score customers engaging in low-spent, small-value payments may represent low-revenue, high-risk individuals. This group can be monitored more closely for potential default risks, helping reduce exposure.Good credit score customers, despite being fewer, show balanced spending habits across categories. This segment represents an opportunity for upselling financial products like investment services or high-value credit cards.\n",
        "*  Focusing only on high-spending behavior might lead to the exclusion of low-spent customers (who may improve over time), reducing long-term customer lifetime value.Standard credit score customers dominate the dataset, but over-reliance on this group could lead to saturation in product offerings without addressing the growth of other segments, such as good score customers.\n",
        "*   These insights balance the identification of high-value customer groups with risk management strategies. While there are risks of excluding certain segments, strategic policies can mitigate negative impacts and maximize profitability.\n",
        "\n",
        "\n",
        "\n",
        "\n"
      ],
      "metadata": {
        "id": "yaB17KRK1_1a"
      }
    },
    {
      "cell_type": "markdown",
      "metadata": {
        "id": "HMSAry0X5PSh"
      },
      "source": [
        "## Chart 22: Payment of Minimum Amount (Bivariate)"
      ]
    },
    {
      "cell_type": "code",
      "execution_count": null,
      "metadata": {
        "id": "aZ6ieU-v5QMR"
      },
      "outputs": [],
      "source": [
        "# Create subplots\n",
        "fig, axes = plt.subplots(1, 2, figsize=(18, 6))\n",
        "\n",
        "# plot 1: bar chart showing payment of minimum amount and oustanding debt\n",
        "sns.barplot(x='Payment_of_Min_Amount',y='Outstanding_Debt',data=customer_df,estimator='mean',hue='Credit_Score_Category',ax=axes[0])\n",
        "axes[0].set_title('Payment_of_Min_Amount vs Outstanding_Debt')\n",
        "axes[0].set_xlabel('Payment_of_Min_Amount')\n",
        "axes[0].set_ylabel('Outstanding Debt of Customer')\n",
        "axes[0].get_legend().set_visible(False)\n",
        "\n",
        "\n",
        "# plot 2: bar chart showing payment of minimum amount and number of credit card inquiries\n",
        "sns.barplot(x='Payment_of_Min_Amount',y='Num_Credit_Inquiries',data=customer_df,estimator='mean',hue='Credit_Score_Category',ax=axes[1])\n",
        "axes[1].set_title('Payment_of_Min_Amount vs Number of Cr Card Inquiries')\n",
        "axes[1].set_xlabel('Payment_of_Min_Amount')\n",
        "axes[1].set_ylabel('Number of Cr Card Inquiries by Customer')\n",
        "plt.legend(loc='upper left',bbox_to_anchor=(1, 1),title='Credit Score', fontsize=12, borderpad=2)\n",
        "\n",
        "# Adjust layout\n",
        "plt.tight_layout() # Automatically Adjust\n",
        "\n",
        "# Show plot\n",
        "plt.show()"
      ]
    },
    {
      "cell_type": "markdown",
      "source": [
        "###1. Why did you pick the specific chart?"
      ],
      "metadata": {
        "id": "RBywkqNG2n4m"
      }
    },
    {
      "cell_type": "markdown",
      "source": [
        "The chosen charts effectively illustrate the relationship between \"Payment of Minimum Amount\" (categorical variable) and two key metrics: \"Outstanding Debt\" and \"Number of Credit Card Inquiries\" (numerical variables). Using bar plots with a categorical breakdown of credit scores (Good, Standard, Poor) ensures a clear comparative analysis across groups, providing insights into financial behavior patterns."
      ],
      "metadata": {
        "id": "RT0BfD0c2xIT"
      }
    },
    {
      "cell_type": "markdown",
      "source": [
        "###2. What is/are the insight(s) found from the chart?"
      ],
      "metadata": {
        "id": "SeXokaL92n0l"
      }
    },
    {
      "cell_type": "markdown",
      "source": [
        "\n",
        "\n",
        "*  Customers who pay only the minimum amount tend to have higher outstanding debts, particularly among those with poor credit scores.For customers not paying the minimum amount, the outstanding debt is relatively lower and consistent across credit score categories.\n",
        "*   Customers paying only the minimum have a higher number of credit card inquiries, particularly for those with poor credit scores.In contrast, those who do not pay the minimum amount have fewer inquiries, indicating less aggressive credit-seeking behavior.\n"
      ],
      "metadata": {
        "id": "pUbZ3AaD2zyw"
      }
    },
    {
      "cell_type": "markdown",
      "source": [
        "###3. Will the gained insights help creating a positive business impact?\n",
        "Are there any insights that lead to negative growth? Justify with specific reason."
      ],
      "metadata": {
        "id": "gDkHCdF72nvZ"
      }
    },
    {
      "cell_type": "markdown",
      "source": [
        "\n",
        "\n",
        "*   Insights about the correlation between \"Minimum Payment\" behavior and financial stress indicators (outstanding debt and credit inquiries) can help design targeted financial products. For instance, Customers with poor credit scores and high inquiries may benefit from educational initiatives or personalized repayment plans.Identifying high-risk customers enables better risk management and improved loan approval processes.\n",
        "*   Customers with poor credit scores making minimum payments may signal potential defaults. If such patterns go unchecked, it could lead to higher non-performing assets for the company.High credit card inquiries combined with minimal payments suggest credit dependency, which might increase risk exposure for the business.\n",
        "*   The analysis provides actionable insights for tailoring customer-centric strategies, such as offering lower-risk financial products or early intervention mechanisms. However, failing to address red flags like high outstanding debts and credit inquiries could adversely affect the business's profitability and reputation.\n",
        "\n",
        "\n",
        "\n"
      ],
      "metadata": {
        "id": "0TNrf_I_2_kj"
      }
    },
    {
      "cell_type": "markdown",
      "metadata": {
        "id": "MqpwdXrOoS8m"
      },
      "source": [
        "## Chart 23: Correlation Heatmap (Multivariate-Comapring Monthly Salary with other Features)"
      ]
    },
    {
      "cell_type": "code",
      "execution_count": null,
      "metadata": {
        "id": "py-fL2GnoP2u"
      },
      "outputs": [],
      "source": [
        "# creating a correlation heatmap to show correlation of monthly inhand salary with other important metrics\n",
        "\n",
        "mnthly_Salary_corr = customer_df.loc[:,['Monthly_Inhand_Salary','Outstanding_Debt','Credit_Utilization_Ratio',\n",
        "                                        'Total_EMI_per_month','Amount_invested_monthly','Monthly_Balance',\n",
        "                                        'Expected_Monthly_Salary','Monthly_Salary_Discrepancy']].corr()\n",
        "\n",
        "z_values = mnthly_Salary_corr.values  # Extracting the correlation values\n",
        "x_labels = mnthly_Salary_corr.columns  # Getting the variable names for the x-axis\n",
        "y_labels = mnthly_Salary_corr.columns  # Getting the variable names for the y-axis (same as x-axis)\n",
        "\n",
        "# Create the heatmap\n",
        "fig = go.Figure(data=go.Heatmap(\n",
        "    z=z_values,\n",
        "    x=x_labels,\n",
        "    y=y_labels,\n",
        "    colorscale='RdYlBu',  # color scale\n",
        "    zmin=-1, zmax=1,  # limits for color scale\n",
        "))\n",
        "\n",
        "# setting the title\n",
        "fig.update_layout(title='Correlation Heatmap')\n",
        "fig.show()"
      ]
    },
    {
      "cell_type": "markdown",
      "source": [
        "###1. Why did you pick the specific chart?"
      ],
      "metadata": {
        "id": "MIKTWc6G3Q9S"
      }
    },
    {
      "cell_type": "markdown",
      "source": [
        "The correlation heatmap was chosen to visually represent the relationships between numerical variables in the dataset. It provides a quick overview of how strongly variables like \"Monthly Balance,\" \"Credit Utilization Ratio,\" \"Outstanding Debt,\" and others are correlated. This is crucial in identifying key drivers or potential multicollinearity issues for further analysis and modeling."
      ],
      "metadata": {
        "id": "3O6je6T03qXv"
      }
    },
    {
      "cell_type": "markdown",
      "source": [
        "###2. What is/are the insight(s) found from the chart?"
      ],
      "metadata": {
        "id": "LMyz0DxV3QzU"
      }
    },
    {
      "cell_type": "markdown",
      "source": [
        "\n",
        "\n",
        "*   \"Monthly Inhand Salary\" is strongly correlated with \"Expected Monthly Salary,\" which is expected as these metrics are directly related.\"Outstanding Debt\" is positively correlated with \"Credit Utilization Ratio,\" indicating that higher debt leads to higher credit usage.\n",
        "*  \"Monthly Salary Discrepancy\" has a strong negative correlation with \"Expected Monthly Salary\" and \"Monthly Balance,\" implying discrepancies arise when expected earnings are higher, potentially due to mismanagement or errors.\n",
        "*  Variables like \"Total EMI per month\" show weak correlations with most other variables, suggesting minimal impact on other financial indicators.\n",
        "\n",
        "\n",
        "\n",
        "\n"
      ],
      "metadata": {
        "id": "k0wL9wdw3tpi"
      }
    },
    {
      "cell_type": "markdown",
      "source": [
        "###3. Will the gained insights help creating a positive business impact?\n",
        "Are there any insights that lead to negative growth? Justify with specific reason."
      ],
      "metadata": {
        "id": "7xdwMNFl3Qqw"
      }
    },
    {
      "cell_type": "markdown",
      "source": [
        "\n",
        "\n",
        "*   Understanding the correlation between \"Outstanding Debt\" and \"Credit Utilization Ratio\" can help identify high-risk customers who may default due to financial strain. This can guide credit limit adjustments or targeted financial education.The insights into salary discrepancies can be leveraged to improve customer trust by addressing discrepancies, refining salary predictions, or implementing stricter data validation.\n",
        "*   Weak correlations between \"Total EMI per month\" and other variables may indicate limited predictive value of EMI for understanding customer risk. This could lead to ineffective prioritization if used as a key metric.\n",
        "*   The insights allow for tailored strategies that mitigate risk and enhance customer satisfaction. However, ignoring weakly correlated variables or over-relying on them may lead to misguided business decisions. Proper weighting of impactful factors like debt and utilization will ensure effective outcomes.\n",
        "\n",
        "\n",
        "\n",
        "\n"
      ],
      "metadata": {
        "id": "XHhBVX4W38IP"
      }
    },
    {
      "cell_type": "markdown",
      "metadata": {
        "id": "307ot-oclCGm"
      },
      "source": [
        "## Correlation plot"
      ]
    },
    {
      "cell_type": "code",
      "execution_count": null,
      "metadata": {
        "id": "vnQ09eDo_IPF"
      },
      "outputs": [],
      "source": [
        "# Correlation Heatmap visualization code\n",
        "corr = customer_df.select_dtypes(include=['int64','float64']).corr()\n",
        "cmap = cmap=sns.diverging_palette(5, 250, as_cmap=True)\n",
        "\n",
        "def magnify():\n",
        "    return [dict(selector=\"th\",\n",
        "                 props=[(\"font-size\", \"7pt\")]),\n",
        "            dict(selector=\"td\",\n",
        "                 props=[('padding', \"0em 0em\")]),\n",
        "            dict(selector=\"th:hover\",\n",
        "                 props=[(\"font-size\", \"12pt\")]),\n",
        "            dict(selector=\"tr:hover td:hover\",\n",
        "                 props=[('max-width', '200px'),\n",
        "                        ('font-size', '12pt')])\n",
        "]\n",
        "\n",
        "corr.style.background_gradient(cmap, axis=1)\\\n",
        "    .set_properties(**{'max-width': '80px', 'font-size': '10pt'})\\\n",
        "    .set_caption(\"Hover to magify\")\\\n",
        "    .format(\"{:.2f}\")\\\n",
        "    .set_table_styles(magnify())\n",
        "\n"
      ]
    },
    {
      "cell_type": "markdown",
      "source": [
        "###1. Why did you pick the specific chart?"
      ],
      "metadata": {
        "id": "GZk7vfvG4Vd7"
      }
    },
    {
      "cell_type": "markdown",
      "source": [
        "A correlation matrix is a table showing correlation coefficients between variables. Each cell in the table shows the correlation between two variables. A correlation matrix is used to summarize data, as an input into a more advanced analysis, and as a diagnostic for advanced analyses. The range of correlation is [-1,1].\n",
        "\n",
        "Thus to know the correlation between all the variables along with the correlation coeficients, i used correlation heatmap."
      ],
      "metadata": {
        "id": "VoqO6GK74VM9"
      }
    },
    {
      "cell_type": "markdown",
      "source": [
        "###2. What is/are the insight(s) found from the chart?"
      ],
      "metadata": {
        "id": "rVxsXH654U03"
      }
    },
    {
      "cell_type": "markdown",
      "source": [
        "The heatmap reveals key correlations among financial variables in the dataset. Strong positive relationships are observed between Annual Income and Monthly Inhand Salary, as well as Expected Monthly Salary and Amount Invested Monthly, indicating predictable financial patterns. Risk-related behaviors are highlighted through positive correlations of Number of Delayed Payments with Outstanding Debt and Delay from Due Date, while the Credit Utilization Ratio negatively correlates with Credit History Age, suggesting that longer credit histories are associated with better credit management. Additionally, Monthly Balance shows a negative relationship with Outstanding Debt and Total EMI per Month, reflecting the impact of high financial obligations on liquidity. Features like SSN, ID, and Customer_ID are independent and serve as identifiers without influencing financial behavior. For fraud detection, focusing on variables such as Credit Utilization Ratio, Number of Delayed Payments, and Credit History Age could provide valuable insights into risky or fraudulent patterns."
      ],
      "metadata": {
        "id": "ls4ms5M14Uoz"
      }
    },
    {
      "cell_type": "markdown",
      "metadata": {
        "id": "ks_dCnaClD19"
      },
      "source": [
        "## pair plot"
      ]
    },
    {
      "cell_type": "code",
      "execution_count": null,
      "metadata": {
        "colab": {
          "background_save": true
        },
        "id": "dMlHzI2SaM27"
      },
      "outputs": [],
      "source": [
        "# Pair Plot visualization code\n",
        "numeric_cols = customer_df.select_dtypes(include=['int64','float64'])\n",
        "sns.pairplot(numeric_cols)\n",
        "\n",
        "plt.show()"
      ]
    },
    {
      "cell_type": "markdown",
      "source": [
        "###1. Why did you pick the specific chart?"
      ],
      "metadata": {
        "id": "a3M62n2v4tly"
      }
    },
    {
      "cell_type": "markdown",
      "source": [
        "Pair plot is used to understand the best set of features to explain a relationship between two variables or to form the most separated clusters. It also helps to form some simple classification models by drawing some simple lines or make linear separation in our data-set.\n",
        "\n",
        "Thus, I used pair plot to analyse the patterns of data and realationship between the features. It's exactly same as the correlation map but here you will get the graphical representation."
      ],
      "metadata": {
        "id": "0slcwX_A5HEI"
      }
    },
    {
      "cell_type": "markdown",
      "source": [
        "###2. What is/are the insight(s) found from the chart?"
      ],
      "metadata": {
        "id": "dZ1DTABO4tb6"
      }
    },
    {
      "cell_type": "markdown",
      "source": [
        "\n",
        "\n",
        "*   The scatterplots in the pair plot allow us to observe linear or non-linear relationships. Variables with diagonal or curved scatter distributions indicate correlations.The histograms along the diagonal provide an overview of the distribution of individual variables (e.g., normal, skewed, uniform). Outliers can be easily identified as points that deviate significantly from the general trend.Patterns in scatter plots may hint at the presence of natural clusters or groupings in the data, which can be further explored with clustering techniques.\n",
        "\n"
      ],
      "metadata": {
        "id": "28VIV7D35tS9"
      }
    },
    {
      "cell_type": "markdown",
      "source": [
        "#**5. Solution to Business Objective**"
      ],
      "metadata": {
        "id": "yl_yyY0AUWCA"
      }
    },
    {
      "cell_type": "markdown",
      "source": [
        "**Solution to enhance credit assessment processes, minimize loan default risks, and provide customers with personalized financial advice tailored to their needs:**\n",
        "\n",
        "1. Fraud Detection and Prevention\n",
        "*   Ensure all records undergo validation during onboarding to flag invalid entries (21.6% flagged currently).\n",
        "*   Leverage machine learning to identify patterns of invalid loan profiles, especially among high-risk age groups (14-24, 34-42).\n",
        "*   Monitor credit card ownership to cap risks for customers with 6+ cards.\n",
        "*   Strengthen the verification process for loan applications to minimize invalid profiles.\n",
        "\n",
        "\n",
        "2. Risk Management\n",
        "*   Incorporate delayed payments, loan history, and salary discrepancies into risk models to improve predictions.\n",
        "*  Focus on customers with >6 credit cards, >6 bank accounts, or high outstanding debts. Develop targeted interventions like debt consolidation.\n",
        "\n",
        "\n",
        "3. Financial Education and Support\n",
        "*   Target young adults (14-24) with education programs to reduce bad credit mix issues.\n",
        "*   Provide financial planning assistance for customers with severe discrepancies to reduce financial strain.\n",
        "*   Educate customers on the importance of maintaining a good credit mix.\n",
        "*  Provide credit consolidation services for customers with excessive credit cards.\n",
        "*   Target high-income customers in the poor credit score category with financial improvement plans.\n",
        "*   Offer support for legitimate customers to rectify SSN issues.\n",
        "\n",
        "4. Personalized Product Offerings\n",
        "*   Premium loans and investment opportunities for high-income, good-credit customers.\n",
        "*   Focus premium loan products on middle-aged customers with stable profiles.\n",
        "*  Low-risk, entry-level products for poor-credit, low-income customers to build creditworthiness.\n",
        "*   Use data insights on spending behavior and credit mix to recommend appropriate products.\n",
        "\n",
        "\n",
        "5. Interest Rate Optimization\n",
        "*   Implement interest rate thresholds to prevent delayed payments among financially strained customers.\n",
        "*  Offer custom repayment schedules to high-risk borrowers to reduce defaults.\n",
        "*  Introduce risk-adjusted interest rates for loans based on salary discrepancy categories.\n",
        "*   Incentivize customers to improve their credit mix by offering lower interest rates for balanced portfolios.\n",
        "\n",
        "\n",
        "6. Debt Management and Credit Utilization\n",
        "*   Identify and flag customers showing increasing debt and frequent credit inquiries for early intervention.\n",
        "*   Introduce flexible repayment plans to reduce delayed payments and defaults.\n",
        "*   Refine loan offerings to balance income levels and credit risks.\n",
        "*   Use data-driven insights to identify cross-sell opportunities for existing customers.\n",
        "\n",
        "\n",
        "7. Proactive Customer Engagement\n",
        "*   Leverage stable profiles (34-42 age group) for premium product offerings and relationship-building.\n",
        "*    Provide counseling and assistance to those with poor credit scores and high loans to prevent defaults.\n",
        "\n",
        "\n",
        "\n",
        "\n",
        "\n",
        "\n",
        "\n",
        "\n",
        "\n"
      ],
      "metadata": {
        "id": "SvF_bdzcUe9K"
      }
    },
    {
      "cell_type": "markdown",
      "source": [
        "#**Conclusion**"
      ],
      "metadata": {
        "id": "hXkXxYG1lYBs"
      }
    },
    {
      "cell_type": "markdown",
      "source": [
        "The PaisaBazaar Banking Fraud Analysis project successfully identified critical factors influencing credit risk and fraud detection, providing actionable insights to strengthen decision-making and customer engagement. By leveraging a clean and comprehensive dataset, the analysis revealed key patterns, such as the strong correlation between salary discrepancies, SSN validity, and credit scores, as well as the impact of high credit card ownership and delayed payments on financial risk.\n",
        "\n",
        "The study emphasized the importance of tailored financial products, proactive customer support, and enhanced fraud detection mechanisms to address the challenges of creditworthiness misclassification and loan defaults. With targeted interventions, such as flexible repayment plans, risk-adjusted interest rates, and financial literacy programs, the project offers a robust framework for improving credit risk assessment and customer satisfaction.\n",
        "\n",
        "This analysis empowers PaisaBazaar to better serve its customers while minimizing operational risks, positioning the organization as a leader in delivering secure and personalized financial solutions."
      ],
      "metadata": {
        "id": "omle6lTMlXz7"
      }
    }
  ],
  "metadata": {
    "colab": {
      "collapsed_sections": [
        "9HhpQbASx8Lt",
        "TP1t32I1m2Ka",
        "1onkWMOEzFrr",
        "7Ns8Q61C_s2z",
        "nSOfVftkAH-j",
        "XkwsoU7nC-Nm",
        "_9FyBDCaFJDR",
        "hyuM8qpgFme7",
        "NqyWzEfDGV7Q",
        "fb2Z6YIoN_X2",
        "ODw72fE4aGKx",
        "ZIx8S-jFTq7n",
        "bRJMlTtuUfoI",
        "OYazKbl2SE2f",
        "Nyxn48GxVTcJ",
        "dhTJPn8dX3TE",
        "7MGHhShdfCpS",
        "l9Q61KPmXuuJ",
        "VqcaaCb2KOyV",
        "0TWvK3wtw5eZ",
        "aOKc7NYAw6-m",
        "RWe296Inw8Y4",
        "fwPaOAGATxbI",
        "jyvMm8peEzB3",
        "lVL97AB9FOla",
        "SBy4gSWLFP6p",
        "8XEguEnkFQ-L",
        "JCHPg4epJysF",
        "Xj7qVmX0MQTp",
        "BuvkPAJSMjz4",
        "SuBcrOOxMklv",
        "XQz8x2w-MlXE",
        "JojgK7MCMmWz",
        "-JProoZ5QO1g",
        "fKc2EkH1QP28",
        "RXrPm90IQQ1v",
        "5reJ-7BSQRxi",
        "0GpBbar5TAzJ",
        "FwqkhczGTBww",
        "lhmRTOb4TCiW",
        "-mMsDQpFnehD",
        "7Z2xtqqQW2Hx",
        "weQ5so7nW3GK",
        "3BFpjc1FW4HM",
        "lMa26PlHoUAQ",
        "ML3j6CN4YzJ7",
        "khAcNO7gYy1Z",
        "y9sjWNA7Yysr",
        "43vfL2rBnoOm",
        "bMSKX96hZxdQ",
        "SWJb-x05ZxM2",
        "PvQPHPnTZxHD",
        "Ioffcd60k2CQ",
        "qbqj-28kczTe",
        "LPhnstvZczFN",
        "md5HFO3Icy4X",
        "Z6P1Uss0lerr",
        "Vf2zNA-ld63n",
        "8NIvyU3wd6qs",
        "WWxo2iLud6gj",
        "SSghmVdplzCs",
        "8nfxROsrhhNL",
        "pX65sYFvhhFi",
        "nTgzDvbNhg9B",
        "HxT9K_CumgO0",
        "2z6RG8x4jJ27",
        "CNyKYAqMjJxL",
        "3G8I3OA-jJpz",
        "rypC_qzongum",
        "BFEnAsaHmHD2",
        "oQUIv1XImG5J",
        "agPSV_-QmGxp",
        "la4Hy7I7oSBQ",
        "EkVdXN2voM8Y",
        "3wGxQJ2IoMwL",
        "rUzO4FVLoMmC",
        "NKjUnZv-qlKk",
        "eSl1PyxwrklH",
        "5llsOFBBrkXU",
        "jKQlWhtrrkJi",
        "EmPNG-vW358r",
        "8LF7wCqi2xJx",
        "ACGgj-VG2xD7",
        "75iUD3sI2w9r",
        "vF6H37RX1fCQ",
        "7GSkAyeI6jQF",
        "rVKfZnOT6jGh",
        "GtDz1FtI6i-N",
        "GCoUJOuxr0Lv",
        "kfX8NNg_8bGp",
        "26w1kVwe8a-I",
        "meLYgU_X8a1s",
        "k8P91csWadCW",
        "rrka-uExvUe2",
        "AR0ukkdPvUPc",
        "Bl1TF2zOvUB3",
        "h1D0OKuZsgtL",
        "5zGcb0XExC-V",
        "mEiPZDaTxC6W",
        "5q0IE4bqxC2Q",
        "wjlkPKpBwPTx",
        "XSP_z7nPx-ZU",
        "g6wPE5zJyB5H",
        "myU_2deuyCgi",
        "B3mxB8Zq18ab",
        "8qnIqT09zJHR",
        "6vjT9mT-zI8W",
        "4TMS4IYszIzf",
        "3zyKceMc6jQr",
        "wSeQTskw0Pac",
        "ktmqVm_Q0PRs",
        "7Xye2goD0PJd",
        "nnnxjYR47aA1",
        "3hRj87Ng1K95",
        "o2T44kaZ1Kz5",
        "EUdcHpRA1Kqq",
        "HMSAry0X5PSh",
        "RBywkqNG2n4m",
        "SeXokaL92n0l",
        "gDkHCdF72nvZ",
        "MqpwdXrOoS8m",
        "MIKTWc6G3Q9S",
        "LMyz0DxV3QzU",
        "7xdwMNFl3Qqw",
        "307ot-oclCGm",
        "rVxsXH654U03",
        "ks_dCnaClD19",
        "a3M62n2v4tly",
        "dZ1DTABO4tb6"
      ],
      "provenance": [],
      "authorship_tag": "ABX9TyOGOsVIunEe/FxN7iQQUuB3",
      "include_colab_link": true
    },
    "kernelspec": {
      "display_name": "Python 3",
      "name": "python3"
    },
    "language_info": {
      "name": "python"
    }
  },
  "nbformat": 4,
  "nbformat_minor": 0
}